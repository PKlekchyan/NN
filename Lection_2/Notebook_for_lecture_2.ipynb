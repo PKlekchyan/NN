{
 "cells": [
  {
   "cell_type": "markdown",
   "metadata": {
    "id": "-8hJ2Wh_kDQp"
   },
   "source": [
    "# Лекция 2. Углубление в НС и библиотеку Keras\n"
   ]
  },
  {
   "cell_type": "code",
   "execution_count": 2,
   "metadata": {
    "id": "ugQwKOESkDQw"
   },
   "outputs": [],
   "source": [
    "import numpy as np\n",
    "import tensorflow as tf\n",
    "from tensorflow import keras\n",
    "from tensorflow.keras import layers"
   ]
  },
  {
   "cell_type": "code",
   "execution_count": null,
   "metadata": {
    "id": "g0HpIKR5-Lec"
   },
   "outputs": [],
   "source": []
  },
  {
   "cell_type": "markdown",
   "metadata": {
    "id": "WyFRpeaWkDQw"
   },
   "source": [
    "## Introduction\n",
    "\n",
    "На прошлой лекции мы познакомились с базовым набором инструментов библиотеки Keras, научились строить модели с помощью инструмента ```keras.Sequential()```. Однако на практике не все модели удается реализовать с помощью этого метода.\n",
    "\n",
    "Если в модели присутствует \"нелинейная\" структура (т.е. есть разветвление потока данных), то ```keras.Sequential()``` не подойдет для построения такой модели. На помощь приходит инструмент *functional API*.\n",
    "\n",
    "\n",
    "Рассмотрим следующую модель:\n",
    "\n",
    "<div class=\"k-default-codeblock\">\n",
    "```\n",
    "(input: 784-dimensional vectors)\n",
    "       ↧\n",
    "[Dense (32 units, relu activation)]\n",
    "       ↧\n",
    "[Dense (32 units, relu activation)]\n",
    "       ↧\n",
    "[Dense (10 units, softmax activation)]\n",
    "       ↧\n",
    "(output: logits of a probability distribution over 10 classes)\n",
    "```\n",
    "</div>"
   ]
  },
  {
   "cell_type": "markdown",
   "metadata": {
    "id": "eTgRP3vfZRGm"
   },
   "source": [
    "Обычно в глубоком обучении принято использовать следующую структуру во входных данных:\n",
    "\n",
    "$$[n, N_{ch}, W,H],$$\n",
    "\n",
    "где $n$ - размер подвыборки (batch_size), $N_{ch}$ - кол-во каналов (красный, зеленый, синий), $W$, $H$ - ширина и высота изображения. Однако batch_size не указывается при объявлении слоев в Keras. \n",
    "\n"
   ]
  },
  {
   "cell_type": "code",
   "execution_count": 2,
   "metadata": {
    "colab": {
     "base_uri": "https://localhost:8080/"
    },
    "id": "pw6d6rxmkDQx",
    "outputId": "7457c4a3-c5b7-4a66-86d9-f8bae88306ce"
   },
   "outputs": [
    {
     "name": "stdout",
     "output_type": "stream",
     "text": [
      "(None, 32, 32, 3)\n"
     ]
    }
   ],
   "source": [
    "img_inputs = keras.Input(shape=(32, 32, 3))\n",
    "print(img_inputs.shape)"
   ]
  },
  {
   "cell_type": "markdown",
   "metadata": {
    "id": "APlsPQfMadKL"
   },
   "source": [
    "На сегодняшний день мы пока забудем о вышеописанной структуре и будем все входные данные трактовать как один длинный вектор длины $(N_{ch}\\cdot W \\cdot H)$."
   ]
  },
  {
   "cell_type": "code",
   "execution_count": 3,
   "metadata": {
    "id": "LlEPjrM7kDQx"
   },
   "outputs": [],
   "source": [
    "inputs = keras.Input(shape=(784,))"
   ]
  },
  {
   "cell_type": "code",
   "execution_count": 4,
   "metadata": {
    "colab": {
     "base_uri": "https://localhost:8080/"
    },
    "id": "TcVx74EKkDQy",
    "outputId": "07981507-3957-4355-944e-b5231f010288"
   },
   "outputs": [
    {
     "name": "stdout",
     "output_type": "stream",
     "text": [
      "Shape of input is (None, 784)\n",
      "Data type of input is <dtype: 'float32'>\n"
     ]
    }
   ],
   "source": [
    "print(\"Shape of input is\", inputs.shape)\n",
    "print(\"Data type of input is\", inputs.dtype)"
   ]
  },
  {
   "cell_type": "markdown",
   "metadata": {
    "id": "Vylgfs1_kDQz"
   },
   "source": [
    "Следующий слой, который будет использовать тензор `inputs` как входные данные, должен быть объявлен следующим образом:\n"
   ]
  },
  {
   "cell_type": "code",
   "execution_count": 4,
   "metadata": {
    "id": "FsIrr5OmkDQz"
   },
   "outputs": [],
   "source": [
    "x = layers.Dense(32)(inputs) ### объявление слоя\n",
    "x = layers.BatchNormalization()(x)\n",
    "x = layers.Dropout(0.5)(x)\n",
    "\n",
    "x = layers.Activation('relu')(x)\n",
    "#x = dense1(inputs) ### указание входного тензора\n",
    "\n",
    "y = layers.Dense(32)(inputs)\n",
    "y = layers.BatchNormalization()(y)\n",
    "y = layers.Dropout(0.5)(y)\n",
    "y = layers.Activation('relu')(y)\n",
    "\n",
    "dense21 = layers.Dense(32, activation=\"relu\")(x)\n",
    "dense22 = layers.Dense(32, activation='relu')(y)\n",
    "\n",
    "dense3 = layers.Add()([dense21, dense22])"
   ]
  },
  {
   "cell_type": "code",
   "execution_count": 5,
   "metadata": {
    "id": "_HHFJLxZkDQ0"
   },
   "outputs": [],
   "source": [
    "x = layers.Dense(32, activation=\"relu\")(dense3)\n",
    "outputs = layers.Dense(10)(x)"
   ]
  },
  {
   "cell_type": "markdown",
   "metadata": {
    "id": "HNxyEX6VkDQ0"
   },
   "source": [
    "На этом этапе мы можем закончить добавление новых блоков и объявить модель, которая будет состоять из данных слоёв:"
   ]
  },
  {
   "cell_type": "code",
   "execution_count": 6,
   "metadata": {
    "id": "r5n0fK6mkDQ0"
   },
   "outputs": [],
   "source": [
    "model = keras.Model(inputs=inputs, outputs=outputs, name=\"our_first_model\")"
   ]
  },
  {
   "cell_type": "code",
   "execution_count": 7,
   "metadata": {
    "colab": {
     "base_uri": "https://localhost:8080/"
    },
    "id": "169LLi8vkDQ0",
    "outputId": "395d0f4f-1980-42bf-86f8-171c84f478d0"
   },
   "outputs": [
    {
     "name": "stdout",
     "output_type": "stream",
     "text": [
      "Model: \"our_first_model\"\n",
      "__________________________________________________________________________________________________\n",
      " Layer (type)                   Output Shape         Param #     Connected to                     \n",
      "==================================================================================================\n",
      " input_1 (InputLayer)           [(None, 784)]        0           []                               \n",
      "                                                                                                  \n",
      " dense (Dense)                  (None, 32)           25120       ['input_1[0][0]']                \n",
      "                                                                                                  \n",
      " dense_1 (Dense)                (None, 32)           25120       ['input_1[0][0]']                \n",
      "                                                                                                  \n",
      " batch_normalization (BatchNorm  (None, 32)          128         ['dense[0][0]']                  \n",
      " alization)                                                                                       \n",
      "                                                                                                  \n",
      " batch_normalization_1 (BatchNo  (None, 32)          128         ['dense_1[0][0]']                \n",
      " rmalization)                                                                                     \n",
      "                                                                                                  \n",
      " dropout (Dropout)              (None, 32)           0           ['batch_normalization[0][0]']    \n",
      "                                                                                                  \n",
      " dropout_1 (Dropout)            (None, 32)           0           ['batch_normalization_1[0][0]']  \n",
      "                                                                                                  \n",
      " activation (Activation)        (None, 32)           0           ['dropout[0][0]']                \n",
      "                                                                                                  \n",
      " activation_1 (Activation)      (None, 32)           0           ['dropout_1[0][0]']              \n",
      "                                                                                                  \n",
      " dense_2 (Dense)                (None, 32)           1056        ['activation[0][0]']             \n",
      "                                                                                                  \n",
      " dense_3 (Dense)                (None, 32)           1056        ['activation_1[0][0]']           \n",
      "                                                                                                  \n",
      " add (Add)                      (None, 32)           0           ['dense_2[0][0]',                \n",
      "                                                                  'dense_3[0][0]']                \n",
      "                                                                                                  \n",
      " dense_4 (Dense)                (None, 32)           1056        ['add[0][0]']                    \n",
      "                                                                                                  \n",
      " dense_5 (Dense)                (None, 10)           330         ['dense_4[0][0]']                \n",
      "                                                                                                  \n",
      "==================================================================================================\n",
      "Total params: 53,994\n",
      "Trainable params: 53,866\n",
      "Non-trainable params: 128\n",
      "__________________________________________________________________________________________________\n"
     ]
    }
   ],
   "source": [
    "model.summary()"
   ]
  },
  {
   "cell_type": "markdown",
   "metadata": {
    "id": "IrQXWoLukDQ1"
   },
   "source": [
    "Можно, например, нарисовать модель в виде направленного графа:"
   ]
  },
  {
   "cell_type": "code",
   "execution_count": 8,
   "metadata": {
    "colab": {
     "base_uri": "https://localhost:8080/",
     "height": 856
    },
    "id": "luyMMvaAkDQ1",
    "outputId": "ef531905-c6f0-4edb-ed11-dcf50afb6f5b"
   },
   "outputs": [
    {
     "name": "stdout",
     "output_type": "stream",
     "text": [
      "You must install pydot (`pip install pydot`) and install graphviz (see instructions at https://graphviz.gitlab.io/download/) for plot_model/model_to_dot to work.\n"
     ]
    }
   ],
   "source": [
    "keras.utils.plot_model(model, \"my_first_model.png\")"
   ]
  },
  {
   "cell_type": "code",
   "execution_count": 9,
   "metadata": {
    "colab": {
     "base_uri": "https://localhost:8080/",
     "height": 858
    },
    "id": "dxhR_eZRkDQ1",
    "outputId": "1ae09ff2-b198-40b5-f9bf-c298d313fbaa"
   },
   "outputs": [
    {
     "name": "stdout",
     "output_type": "stream",
     "text": [
      "You must install pydot (`pip install pydot`) and install graphviz (see instructions at https://graphviz.gitlab.io/download/) for plot_model/model_to_dot to work.\n"
     ]
    }
   ],
   "source": [
    "keras.utils.plot_model(model, \"my_first_model_with_shape_info.png\", show_shapes=True)"
   ]
  },
  {
   "cell_type": "markdown",
   "metadata": {
    "id": "blVUMDKlkDQ2"
   },
   "source": [
    "## Обучение модели\n",
    "\n",
    "Обучение модели происходит тем же самым образом, что и модели, объявленной с помощью класса ```Sequential()```, т.е. с помощью метода ```fit()```.\n"
   ]
  },
  {
   "cell_type": "code",
   "execution_count": 11,
   "metadata": {
    "id": "Bix6-3b1co4M"
   },
   "outputs": [
    {
     "name": "stdout",
     "output_type": "stream",
     "text": [
      "Downloading data from https://storage.googleapis.com/tensorflow/tf-keras-datasets/mnist.npz\n",
      "11493376/11490434 [==============================] - 14s 1us/step\n",
      "11501568/11490434 [==============================] - 14s 1us/step\n"
     ]
    }
   ],
   "source": [
    "(x_train, y_train), (x_test, y_test) = keras.datasets.mnist.load_data()"
   ]
  },
  {
   "cell_type": "code",
   "execution_count": null,
   "metadata": {
    "id": "oX6h8uHBAVv6"
   },
   "outputs": [],
   "source": []
  },
  {
   "cell_type": "code",
   "execution_count": 12,
   "metadata": {
    "colab": {
     "base_uri": "https://localhost:8080/"
    },
    "id": "PTFg-wBmkDQ2",
    "outputId": "c5e3023e-410c-4159-dcc6-c61ddad892b7"
   },
   "outputs": [
    {
     "name": "stdout",
     "output_type": "stream",
     "text": [
      "Epoch 1/10\n",
      "750/750 [==============================] - 9s 9ms/step - loss: 0.6463 - accuracy: 0.7990 - val_loss: 0.2374 - val_accuracy: 0.9268\n",
      "Epoch 2/10\n",
      "750/750 [==============================] - 7s 9ms/step - loss: 0.3996 - accuracy: 0.8791 - val_loss: 0.1947 - val_accuracy: 0.9441\n",
      "Epoch 3/10\n",
      "750/750 [==============================] - 7s 9ms/step - loss: 0.3550 - accuracy: 0.8934 - val_loss: 0.1844 - val_accuracy: 0.9471\n",
      "Epoch 4/10\n",
      "750/750 [==============================] - 7s 9ms/step - loss: 0.3323 - accuracy: 0.9007 - val_loss: 0.1741 - val_accuracy: 0.9495\n",
      "Epoch 5/10\n",
      "750/750 [==============================] - 7s 9ms/step - loss: 0.3133 - accuracy: 0.9076 - val_loss: 0.1588 - val_accuracy: 0.9548\n",
      "Epoch 6/10\n",
      "750/750 [==============================] - 7s 9ms/step - loss: 0.3029 - accuracy: 0.9093 - val_loss: 0.1501 - val_accuracy: 0.9577\n",
      "Epoch 7/10\n",
      "750/750 [==============================] - 7s 9ms/step - loss: 0.2859 - accuracy: 0.9138 - val_loss: 0.1449 - val_accuracy: 0.9583\n",
      "Epoch 8/10\n",
      "750/750 [==============================] - 7s 9ms/step - loss: 0.2829 - accuracy: 0.9146 - val_loss: 0.1418 - val_accuracy: 0.9597\n",
      "Epoch 9/10\n",
      "750/750 [==============================] - 7s 9ms/step - loss: 0.2734 - accuracy: 0.9171 - val_loss: 0.1362 - val_accuracy: 0.9618\n",
      "Epoch 10/10\n",
      "750/750 [==============================] - 7s 9ms/step - loss: 0.2636 - accuracy: 0.9212 - val_loss: 0.1308 - val_accuracy: 0.9635\n",
      "313/313 - 1s - loss: 0.1359 - accuracy: 0.9610 - 1s/epoch - 3ms/step\n",
      "Test loss: 0.13594941794872284\n",
      "Test accuracy: 0.9610000252723694\n"
     ]
    }
   ],
   "source": [
    "x_train = x_train.reshape(60000, 784).astype(\"float32\") / 255.\n",
    "x_test = x_test.reshape(10000, 784).astype(\"float32\") / 255.\n",
    "\n",
    "model.compile(\n",
    "    loss=keras.losses.SparseCategoricalCrossentropy(from_logits=True), ### ОТЛИЧИЕ_ОТ_CategoricalCrossEntropy\n",
    "    optimizer=keras.optimizers.RMSprop(),\n",
    "    metrics=[\"accuracy\"],\n",
    ")\n",
    "\n",
    "history = model.fit(x_train, y_train, batch_size=64, epochs=10, validation_split=0.2)\n",
    "\n",
    "test_scores = model.evaluate(x_test, y_test, verbose=2)\n",
    "print(\"Test loss:\", test_scores[0])\n",
    "print(\"Test accuracy:\", test_scores[1])"
   ]
  },
  {
   "cell_type": "code",
   "execution_count": 28,
   "metadata": {},
   "outputs": [
    {
     "data": {
      "text/plain": [
       "array([[  5.304846 , -20.16086  ,  -6.09499  ,  -9.596409 , -15.074245 ,\n",
       "         -8.132149 ,  -4.720481 , -11.903206 ,  -7.3998404,  -8.102588 ]],\n",
       "      dtype=float32)"
      ]
     },
     "execution_count": 28,
     "metadata": {},
     "output_type": "execute_result"
    }
   ],
   "source": [
    "model.predict(x_test[71:72])"
   ]
  },
  {
   "cell_type": "code",
   "execution_count": 29,
   "metadata": {},
   "outputs": [
    {
     "data": {
      "text/plain": [
       "array([0], dtype=uint8)"
      ]
     },
     "execution_count": 29,
     "metadata": {},
     "output_type": "execute_result"
    }
   ],
   "source": [
    "y_test[71:72]"
   ]
  },
  {
   "cell_type": "markdown",
   "metadata": {
    "id": "l-0ZBcERkDQ2"
   },
   "source": [
    "## Сохранение модели\n",
    "\n",
    " `model.save()` при вызове сохраняет модель в один файл.\n",
    "Сохраненный файл включает в себя:\n",
    "- архитектуру модели;\n",
    "- веса модели;\n",
    "- config-file (если такой был создан при компиляции);\n",
    "- оптимизатор и его состояние."
   ]
  },
  {
   "cell_type": "code",
   "execution_count": null,
   "metadata": {
    "colab": {
     "base_uri": "https://localhost:8080/"
    },
    "id": "cW3VtcyxkDQ3",
    "outputId": "94353576-06c5-4e1f-ccfe-edf253307815"
   },
   "outputs": [
    {
     "name": "stdout",
     "output_type": "stream",
     "text": [
      "INFO:tensorflow:Assets written to: path_to_my_model/assets\n"
     ]
    }
   ],
   "source": [
    "model.save(\"path_to_my_model\")\n",
    "del model\n",
    "# Recreate the exact same model purely from the file:\n",
    "model = keras.models.load_model(\"path_to_my_model\")"
   ]
  },
  {
   "cell_type": "code",
   "execution_count": null,
   "metadata": {
    "colab": {
     "base_uri": "https://localhost:8080/"
    },
    "id": "3U2MUahZDQGJ",
    "outputId": "fac543ed-4862-4c2b-b993-12a313ad2451"
   },
   "outputs": [
    {
     "name": "stdout",
     "output_type": "stream",
     "text": [
      "Model: \"our_first_model\"\n",
      "__________________________________________________________________________________________________\n",
      "Layer (type)                    Output Shape         Param #     Connected to                     \n",
      "==================================================================================================\n",
      "input_5 (InputLayer)            [(None, 784)]        0                                            \n",
      "__________________________________________________________________________________________________\n",
      "dense_23 (Dense)                (None, 32)           25120       input_5[0][0]                    \n",
      "__________________________________________________________________________________________________\n",
      "dense_24 (Dense)                (None, 32)           25120       input_5[0][0]                    \n",
      "__________________________________________________________________________________________________\n",
      "batch_normalization (BatchNorma (None, 32)           128         dense_23[0][0]                   \n",
      "__________________________________________________________________________________________________\n",
      "batch_normalization_1 (BatchNor (None, 32)           128         dense_24[0][0]                   \n",
      "__________________________________________________________________________________________________\n",
      "dropout_4 (Dropout)             (None, 32)           0           batch_normalization[0][0]        \n",
      "__________________________________________________________________________________________________\n",
      "dropout_5 (Dropout)             (None, 32)           0           batch_normalization_1[0][0]      \n",
      "__________________________________________________________________________________________________\n",
      "activation_4 (Activation)       (None, 32)           0           dropout_4[0][0]                  \n",
      "__________________________________________________________________________________________________\n",
      "activation_5 (Activation)       (None, 32)           0           dropout_5[0][0]                  \n",
      "__________________________________________________________________________________________________\n",
      "dense_25 (Dense)                (None, 32)           1056        activation_4[0][0]               \n",
      "__________________________________________________________________________________________________\n",
      "dense_26 (Dense)                (None, 32)           1056        activation_5[0][0]               \n",
      "__________________________________________________________________________________________________\n",
      "add_3 (Add)                     (None, 32)           0           dense_25[0][0]                   \n",
      "                                                                 dense_26[0][0]                   \n",
      "__________________________________________________________________________________________________\n",
      "dense_27 (Dense)                (None, 32)           1056        add_3[0][0]                      \n",
      "__________________________________________________________________________________________________\n",
      "dense_28 (Dense)                (None, 10)           330         dense_27[0][0]                   \n",
      "==================================================================================================\n",
      "Total params: 53,994\n",
      "Trainable params: 53,866\n",
      "Non-trainable params: 128\n",
      "__________________________________________________________________________________________________\n"
     ]
    }
   ],
   "source": [
    "model.summary()"
   ]
  },
  {
   "cell_type": "code",
   "execution_count": null,
   "metadata": {
    "id": "XuXD2vIeDZ-G"
   },
   "outputs": [],
   "source": []
  }
 ],
 "metadata": {
  "accelerator": "GPU",
  "colab": {
   "collapsed_sections": [],
   "name": "Notebook_for_lecture_2.ipynb",
   "provenance": [],
   "toc_visible": true
  },
  "kernelspec": {
   "display_name": "Python 3",
   "language": "python",
   "name": "python3"
  },
  "language_info": {
   "codemirror_mode": {
    "name": "ipython",
    "version": 3
   },
   "file_extension": ".py",
   "mimetype": "text/x-python",
   "name": "python",
   "nbconvert_exporter": "python",
   "pygments_lexer": "ipython3",
   "version": "3.9.0"
  }
 },
 "nbformat": 4,
 "nbformat_minor": 1
}
