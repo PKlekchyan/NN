{
  "nbformat": 4,
  "nbformat_minor": 0,
  "metadata": {
    "kernelspec": {
      "display_name": "Python 3",
      "language": "python",
      "name": "python3"
    },
    "language_info": {
      "codemirror_mode": {
        "name": "ipython",
        "version": 3
      },
      "file_extension": ".py",
      "mimetype": "text/x-python",
      "name": "python",
      "nbconvert_exporter": "python",
      "pygments_lexer": "ipython3",
      "version": "3.7.3"
    },
    "latex_envs": {
      "LaTeX_envs_menu_present": true,
      "autoclose": false,
      "autocomplete": true,
      "bibliofile": "biblio.bib",
      "cite_by": "apalike",
      "current_citInitial": 1,
      "eqLabelWithNumbers": true,
      "eqNumInitial": 1,
      "hotkeys": {
        "equation": "Ctrl-E",
        "itemize": "Ctrl-I"
      },
      "labels_anchors": false,
      "latex_user_defs": false,
      "report_style_numbering": false,
      "user_envs_cfg": false
    },
    "toc": {
      "base_numbering": 1,
      "nav_menu": {},
      "number_sections": true,
      "sideBar": true,
      "skip_h1_title": false,
      "title_cell": "Table of Contents",
      "title_sidebar": "Contents",
      "toc_cell": false,
      "toc_position": {},
      "toc_section_display": true,
      "toc_window_display": false
    },
    "varInspector": {
      "cols": {
        "lenName": 16,
        "lenType": 16,
        "lenVar": 40
      },
      "kernels_config": {
        "python": {
          "delete_cmd_postfix": "",
          "delete_cmd_prefix": "del ",
          "library": "var_list.py",
          "varRefreshCmd": "print(var_dic_list())"
        },
        "r": {
          "delete_cmd_postfix": ") ",
          "delete_cmd_prefix": "rm(",
          "library": "var_list.r",
          "varRefreshCmd": "cat(var_dic_list()) "
        }
      },
      "types_to_exclude": [
        "module",
        "function",
        "builtin_function_or_method",
        "instance",
        "_Feature"
      ],
      "window_display": false
    },
    "colab": {
      "name": "Клекчян Павел Intro to NN 3 (hw)",
      "provenance": [],
      "collapsed_sections": []
    },
    "accelerator": "GPU",
    "widgets": {
      "application/vnd.jupyter.widget-state+json": {
        "0b83431d5c104ba6ad4a7d18777d1f5e": {
          "model_module": "@jupyter-widgets/controls",
          "model_name": "HBoxModel",
          "model_module_version": "1.5.0",
          "state": {
            "_view_name": "HBoxView",
            "_dom_classes": [],
            "_model_name": "HBoxModel",
            "_view_module": "@jupyter-widgets/controls",
            "_model_module_version": "1.5.0",
            "_view_count": null,
            "_view_module_version": "1.5.0",
            "box_style": "",
            "layout": "IPY_MODEL_1537e910870744be8c6dc37cb32952fe",
            "_model_module": "@jupyter-widgets/controls",
            "children": [
              "IPY_MODEL_3595913e9c0c4d008ab7cfd54f8a46d9",
              "IPY_MODEL_0182d2c82c764c3a996f5228da5ced2b",
              "IPY_MODEL_3e2907aa4f124746a271a76ebf576ab0"
            ]
          }
        },
        "1537e910870744be8c6dc37cb32952fe": {
          "model_module": "@jupyter-widgets/base",
          "model_name": "LayoutModel",
          "model_module_version": "1.2.0",
          "state": {
            "_view_name": "LayoutView",
            "grid_template_rows": null,
            "right": null,
            "justify_content": null,
            "_view_module": "@jupyter-widgets/base",
            "overflow": null,
            "_model_module_version": "1.2.0",
            "_view_count": null,
            "flex_flow": null,
            "width": null,
            "min_width": null,
            "border": null,
            "align_items": null,
            "bottom": null,
            "_model_module": "@jupyter-widgets/base",
            "top": null,
            "grid_column": null,
            "overflow_y": null,
            "overflow_x": null,
            "grid_auto_flow": null,
            "grid_area": null,
            "grid_template_columns": null,
            "flex": null,
            "_model_name": "LayoutModel",
            "justify_items": null,
            "grid_row": null,
            "max_height": null,
            "align_content": null,
            "visibility": null,
            "align_self": null,
            "height": null,
            "min_height": null,
            "padding": null,
            "grid_auto_rows": null,
            "grid_gap": null,
            "max_width": null,
            "order": null,
            "_view_module_version": "1.2.0",
            "grid_template_areas": null,
            "object_position": null,
            "object_fit": null,
            "grid_auto_columns": null,
            "margin": null,
            "display": null,
            "left": null
          }
        },
        "3595913e9c0c4d008ab7cfd54f8a46d9": {
          "model_module": "@jupyter-widgets/controls",
          "model_name": "HTMLModel",
          "model_module_version": "1.5.0",
          "state": {
            "_view_name": "HTMLView",
            "style": "IPY_MODEL_a1a811b39dca43fcb7c249c42a3e6024",
            "_dom_classes": [],
            "description": "",
            "_model_name": "HTMLModel",
            "placeholder": "​",
            "_view_module": "@jupyter-widgets/controls",
            "_model_module_version": "1.5.0",
            "value": "100%",
            "_view_count": null,
            "_view_module_version": "1.5.0",
            "description_tooltip": null,
            "_model_module": "@jupyter-widgets/controls",
            "layout": "IPY_MODEL_611ed9438b144961924de9d1b661737a"
          }
        },
        "0182d2c82c764c3a996f5228da5ced2b": {
          "model_module": "@jupyter-widgets/controls",
          "model_name": "FloatProgressModel",
          "model_module_version": "1.5.0",
          "state": {
            "_view_name": "ProgressView",
            "style": "IPY_MODEL_de7293e6a69149f9940348b53b4fbded",
            "_dom_classes": [],
            "description": "",
            "_model_name": "FloatProgressModel",
            "bar_style": "success",
            "max": 3,
            "_view_module": "@jupyter-widgets/controls",
            "_model_module_version": "1.5.0",
            "value": 3,
            "_view_count": null,
            "_view_module_version": "1.5.0",
            "orientation": "horizontal",
            "min": 0,
            "description_tooltip": null,
            "_model_module": "@jupyter-widgets/controls",
            "layout": "IPY_MODEL_ca279b1555754b8187e06eeace1fb330"
          }
        },
        "3e2907aa4f124746a271a76ebf576ab0": {
          "model_module": "@jupyter-widgets/controls",
          "model_name": "HTMLModel",
          "model_module_version": "1.5.0",
          "state": {
            "_view_name": "HTMLView",
            "style": "IPY_MODEL_e6c3b733e6964fba9bec22629e70ab44",
            "_dom_classes": [],
            "description": "",
            "_model_name": "HTMLModel",
            "placeholder": "​",
            "_view_module": "@jupyter-widgets/controls",
            "_model_module_version": "1.5.0",
            "value": " 3/3 [29:09&lt;00:00, 590.80s/it]",
            "_view_count": null,
            "_view_module_version": "1.5.0",
            "description_tooltip": null,
            "_model_module": "@jupyter-widgets/controls",
            "layout": "IPY_MODEL_3327da6fde0f468393880aa29ff95f57"
          }
        },
        "a1a811b39dca43fcb7c249c42a3e6024": {
          "model_module": "@jupyter-widgets/controls",
          "model_name": "DescriptionStyleModel",
          "model_module_version": "1.5.0",
          "state": {
            "_view_name": "StyleView",
            "_model_name": "DescriptionStyleModel",
            "description_width": "",
            "_view_module": "@jupyter-widgets/base",
            "_model_module_version": "1.5.0",
            "_view_count": null,
            "_view_module_version": "1.2.0",
            "_model_module": "@jupyter-widgets/controls"
          }
        },
        "611ed9438b144961924de9d1b661737a": {
          "model_module": "@jupyter-widgets/base",
          "model_name": "LayoutModel",
          "model_module_version": "1.2.0",
          "state": {
            "_view_name": "LayoutView",
            "grid_template_rows": null,
            "right": null,
            "justify_content": null,
            "_view_module": "@jupyter-widgets/base",
            "overflow": null,
            "_model_module_version": "1.2.0",
            "_view_count": null,
            "flex_flow": null,
            "width": null,
            "min_width": null,
            "border": null,
            "align_items": null,
            "bottom": null,
            "_model_module": "@jupyter-widgets/base",
            "top": null,
            "grid_column": null,
            "overflow_y": null,
            "overflow_x": null,
            "grid_auto_flow": null,
            "grid_area": null,
            "grid_template_columns": null,
            "flex": null,
            "_model_name": "LayoutModel",
            "justify_items": null,
            "grid_row": null,
            "max_height": null,
            "align_content": null,
            "visibility": null,
            "align_self": null,
            "height": null,
            "min_height": null,
            "padding": null,
            "grid_auto_rows": null,
            "grid_gap": null,
            "max_width": null,
            "order": null,
            "_view_module_version": "1.2.0",
            "grid_template_areas": null,
            "object_position": null,
            "object_fit": null,
            "grid_auto_columns": null,
            "margin": null,
            "display": null,
            "left": null
          }
        },
        "de7293e6a69149f9940348b53b4fbded": {
          "model_module": "@jupyter-widgets/controls",
          "model_name": "ProgressStyleModel",
          "model_module_version": "1.5.0",
          "state": {
            "_view_name": "StyleView",
            "_model_name": "ProgressStyleModel",
            "description_width": "",
            "_view_module": "@jupyter-widgets/base",
            "_model_module_version": "1.5.0",
            "_view_count": null,
            "_view_module_version": "1.2.0",
            "bar_color": null,
            "_model_module": "@jupyter-widgets/controls"
          }
        },
        "ca279b1555754b8187e06eeace1fb330": {
          "model_module": "@jupyter-widgets/base",
          "model_name": "LayoutModel",
          "model_module_version": "1.2.0",
          "state": {
            "_view_name": "LayoutView",
            "grid_template_rows": null,
            "right": null,
            "justify_content": null,
            "_view_module": "@jupyter-widgets/base",
            "overflow": null,
            "_model_module_version": "1.2.0",
            "_view_count": null,
            "flex_flow": null,
            "width": null,
            "min_width": null,
            "border": null,
            "align_items": null,
            "bottom": null,
            "_model_module": "@jupyter-widgets/base",
            "top": null,
            "grid_column": null,
            "overflow_y": null,
            "overflow_x": null,
            "grid_auto_flow": null,
            "grid_area": null,
            "grid_template_columns": null,
            "flex": null,
            "_model_name": "LayoutModel",
            "justify_items": null,
            "grid_row": null,
            "max_height": null,
            "align_content": null,
            "visibility": null,
            "align_self": null,
            "height": null,
            "min_height": null,
            "padding": null,
            "grid_auto_rows": null,
            "grid_gap": null,
            "max_width": null,
            "order": null,
            "_view_module_version": "1.2.0",
            "grid_template_areas": null,
            "object_position": null,
            "object_fit": null,
            "grid_auto_columns": null,
            "margin": null,
            "display": null,
            "left": null
          }
        },
        "e6c3b733e6964fba9bec22629e70ab44": {
          "model_module": "@jupyter-widgets/controls",
          "model_name": "DescriptionStyleModel",
          "model_module_version": "1.5.0",
          "state": {
            "_view_name": "StyleView",
            "_model_name": "DescriptionStyleModel",
            "description_width": "",
            "_view_module": "@jupyter-widgets/base",
            "_model_module_version": "1.5.0",
            "_view_count": null,
            "_view_module_version": "1.2.0",
            "_model_module": "@jupyter-widgets/controls"
          }
        },
        "3327da6fde0f468393880aa29ff95f57": {
          "model_module": "@jupyter-widgets/base",
          "model_name": "LayoutModel",
          "model_module_version": "1.2.0",
          "state": {
            "_view_name": "LayoutView",
            "grid_template_rows": null,
            "right": null,
            "justify_content": null,
            "_view_module": "@jupyter-widgets/base",
            "overflow": null,
            "_model_module_version": "1.2.0",
            "_view_count": null,
            "flex_flow": null,
            "width": null,
            "min_width": null,
            "border": null,
            "align_items": null,
            "bottom": null,
            "_model_module": "@jupyter-widgets/base",
            "top": null,
            "grid_column": null,
            "overflow_y": null,
            "overflow_x": null,
            "grid_auto_flow": null,
            "grid_area": null,
            "grid_template_columns": null,
            "flex": null,
            "_model_name": "LayoutModel",
            "justify_items": null,
            "grid_row": null,
            "max_height": null,
            "align_content": null,
            "visibility": null,
            "align_self": null,
            "height": null,
            "min_height": null,
            "padding": null,
            "grid_auto_rows": null,
            "grid_gap": null,
            "max_width": null,
            "order": null,
            "_view_module_version": "1.2.0",
            "grid_template_areas": null,
            "object_position": null,
            "object_fit": null,
            "grid_auto_columns": null,
            "margin": null,
            "display": null,
            "left": null
          }
        }
      }
    }
  },
  "cells": [
    {
      "cell_type": "markdown",
      "metadata": {
        "collapsed": true,
        "id": "h97RdWrNxjed"
      },
      "source": [
        "# Домашнее задание. Свёрточные сети\n",
        "\n",
        "Здесь вам предстоит построить и обучить свою первую свёрточную сеть для классификации изображений на данных CIFAR10. "
      ]
    },
    {
      "cell_type": "code",
      "metadata": {
        "id": "Bj5T_3dxxjee"
      },
      "source": [
        "import tensorflow as tf\n",
        "from sklearn.metrics import accuracy_score\n",
        "from tqdm import tqdm_notebook"
      ],
      "execution_count": null,
      "outputs": []
    },
    {
      "cell_type": "markdown",
      "metadata": {
        "id": "8967u5Bzxjef"
      },
      "source": [
        "## Данные\n",
        "\n",
        "CIFAR10\n",
        "* 60000 RGB изображений размером 32x32x3\n",
        "* 10 классов: самолёты, собаки, рыбы и т.п.\n",
        "\n",
        "<img src=\"https://www.samyzaf.com/ML/cifar10/cifar1.jpg\" style=\"width:60%\">"
      ]
    },
    {
      "cell_type": "markdown",
      "metadata": {
        "id": "xFMGMCFrxjef"
      },
      "source": [
        "Загрузите данные, разделите их на обучающую и тестовую выборки. Размер тестовой выборки должен быть $10^4$."
      ]
    },
    {
      "cell_type": "code",
      "metadata": {
        "id": "bf04QwsBxjef",
        "colab": {
          "base_uri": "https://localhost:8080/"
        },
        "outputId": "c08eb376-6bc7-4c1e-ff04-723b4e7c52ae"
      },
      "source": [
        "import numpy as np\n",
        "from keras.datasets import cifar10\n",
        "from sklearn.model_selection import train_test_split\n",
        "(X, y), (X_test, y_test) = cifar10.load_data()\n",
        "X_train, X_val, y_train, y_val = train_test_split(X, y, test_size=10**4, random_state=42)\n",
        "\n",
        "class_names = np.array(['airplane','automobile ','bird ','cat ','deer ','dog ','frog ','horse ','ship ','truck'])\n",
        "\n",
        "print (X_train.shape,y_train.shape)"
      ],
      "execution_count": null,
      "outputs": [
        {
          "output_type": "stream",
          "name": "stdout",
          "text": [
            "Downloading data from https://www.cs.toronto.edu/~kriz/cifar-10-python.tar.gz\n",
            "170500096/170498071 [==============================] - 6s 0us/step\n",
            "170508288/170498071 [==============================] - 6s 0us/step\n",
            "(40000, 32, 32, 3) (40000, 1)\n"
          ]
        }
      ]
    },
    {
      "cell_type": "code",
      "source": [
        "print(X_val.shape, y_val.shape)"
      ],
      "metadata": {
        "id": "cVgUmWbhOHu9"
      },
      "execution_count": null,
      "outputs": []
    },
    {
      "cell_type": "markdown",
      "metadata": {
        "id": "_XS_kZF9xjeh"
      },
      "source": [
        "Прежде чем приступать к основной работе, стоит убедиться что загруженно именно то, что требовалось:"
      ]
    },
    {
      "cell_type": "code",
      "metadata": {
        "id": "1Sih-A1Dxjeh",
        "colab": {
          "base_uri": "https://localhost:8080/",
          "height": 593
        },
        "outputId": "45ca5f11-6a2d-4fcf-b1d8-3253c3be31ec"
      },
      "source": [
        "import matplotlib.pyplot as plt\n",
        "%matplotlib inline\n",
        "\n",
        "plt.figure(figsize=[12,10])\n",
        "for i in range(12):\n",
        "    plt.subplot(3, 4, i + 1)\n",
        "    plt.xlabel(class_names[y_train[i, 0]])\n",
        "    plt.imshow(X_train[i])"
      ],
      "execution_count": null,
      "outputs": [
        {
          "output_type": "display_data",
          "data": {
            "image/png": "[encoded data removed]",
            "text/plain": [
              "<Figure size 864x720 with 12 Axes>"
            ]
          },
          "metadata": {
            "needs_background": "light"
          }
        }
      ]
    },
    {
      "cell_type": "markdown",
      "metadata": {
        "id": "2iXiYWbdxjei"
      },
      "source": [
        "## Подготовка данных\n",
        "\n",
        "Сейчас каждый пиксель изображения закодирован тройкой чисел (RGB) __от 0 до 255__. Однако лучше себя показывает подход, где значения входов нейросети распределены недалеко от 0.\n",
        "\n",
        "Давайте приведём все данные в диапазон __`[0, 1]`__ — просто разделим на соответствующий коэффициент:"
      ]
    },
    {
      "cell_type": "code",
      "metadata": {
        "id": "OhIwnVXdxjei"
      },
      "source": [
        "X_train = X_train / 255\n",
        "X_val = X_val / 255\n",
        "X_test = X_test / 255"
      ],
      "execution_count": null,
      "outputs": []
    },
    {
      "cell_type": "markdown",
      "metadata": {
        "id": "WSRXEBo9xjej"
      },
      "source": [
        "Исполните код ниже для проверки, что все выполнено корректно."
      ]
    },
    {
      "cell_type": "code",
      "metadata": {
        "id": "iZQD2dTpxjej"
      },
      "source": [
        "assert np.shape(X_train) == (40000, 32, 32, 3), \"data shape should not change\"\n",
        "assert 0.9 <= max(map(np.max, (X_train, X_val, X_test))) <= 1.05\n",
        "assert 0.0 <= min(map(np.min, (X_train, X_val, X_test))) <= 0.1\n",
        "assert len(np.unique(X_test / 255.)) > 10, \"make sure you casted data to float type\""
      ],
      "execution_count": null,
      "outputs": []
    },
    {
      "cell_type": "markdown",
      "metadata": {
        "id": "qdztr8BHxjej"
      },
      "source": [
        "## Архитектура сети\n",
        "\n",
        "Для начала реализуйте простую нейросеть:\n",
        "1. принимает на вход картинки размера 32 x 32 x 3;\n",
        "2. вытягивает их в вектор (`keras.layers.Flatten`);\n",
        "3. пропускает через 1 или 2 полносвязных слоя;\n",
        "4. выходной слой отдает вероятности принадлежности к каждому из 10 классов."
      ]
    },
    {
      "cell_type": "markdown",
      "metadata": {
        "id": "E5VwlwV8xjek"
      },
      "source": [
        "Создайте полносвязную сеть:"
      ]
    },
    {
      "cell_type": "code",
      "metadata": {
        "id": "P0B2-vnExjek"
      },
      "source": [
        "import keras\n",
        "from keras import layers as L\n",
        "from keras import backend as K"
      ],
      "execution_count": null,
      "outputs": []
    },
    {
      "cell_type": "code",
      "metadata": {
        "id": "Ub9pQE0Nxjek"
      },
      "source": [
        "model = keras.Sequential([\n",
        "    keras.layers.Flatten(),\n",
        "    keras.layers.Dense(256, activation='relu'),\n",
        "    keras.layers.Dense(256, activation='relu'),\n",
        "    keras.layers.Dense(256, activation='relu'),\n",
        "    keras.layers.Dense(10, activation='softmax')\n",
        "])"
      ],
      "execution_count": null,
      "outputs": []
    },
    {
      "cell_type": "code",
      "metadata": {
        "id": "Yg6VYd3qxjel"
      },
      "source": [
        "dummy_pred = model.predict(X_train[:20])\n",
        "assert dummy_pred.shape == (20, 10)\n",
        "assert np.allclose(dummy_pred.sum(-1), 1)\n",
        "print(\"Успех!\")"
      ],
      "execution_count": null,
      "outputs": []
    },
    {
      "cell_type": "markdown",
      "metadata": {
        "id": "WGcAp1lexjel"
      },
      "source": [
        "## Обучение сети\n",
        "\n",
        "**Задание 1.1 (обязательно)** Будем минимизировать многоклассовую кроссэкнропию с помощью __sgd__. Вам нужно получить сеть, которая достигнет __не менее 45%__ __accuracy__ на тестовых данных.\n",
        "\n",
        "__Важно:__ поскольку в y_train лежат номера классов, Керасу нужно либо указать sparse функции потерь и метрики оценки качества классификации (`sparse_categorical_crossentropy` и `sparse_categorical_accuracy`), либо конвертировать метки в one-hot формат.\n",
        "\n",
        "### Полезные советы\n",
        "* `model.compile` позволяет указать, какие метрики вы хотите вычислять.\n",
        "* В `model.fit` можно передать валидационную выборку (`validation_data=[X_val, y_val]`), для отслеживания прогресса на ней. Также рекомендуем сохранять результаты в [tensorboard](https://keras.io/callbacks/#tensorboard) или [wandb](https://docs.wandb.ai/integrations/jupyter). **Важно: логи tensorboard не получится без боли посмотреть через colab.** Workaround: скачать логи и запустить tensorboard локально или помучаться [с этим](https://stackoverflow.com/questions/47818822/can-i-use-tensorboard-with-google-colab).\n",
        "* По умолчанию сеть учится 1 эпоху. Совсем не факт, что вам этого хватит. Число эпох можно настроить в методе `fit` (`epochs`).\n",
        "* Ещё у Кераса есть много [полезных callback-ов](https://keras.io/callbacks/), которые можно попробовать. Например, автоматическая остановка или подбор скорости обучения."
      ]
    },
    {
      "cell_type": "code",
      "metadata": {
        "id": "7iVWfkypxjel"
      },
      "source": [
        "y_train, y_val = (tf.keras.utils.to_categorical(y) for y in (y_train, y_val))"
      ],
      "execution_count": null,
      "outputs": []
    },
    {
      "cell_type": "code",
      "source": [
        "!pip install wandb"
      ],
      "metadata": {
        "colab": {
          "base_uri": "https://localhost:8080/"
        },
        "id": "JG7IAYBL-Hhd",
        "outputId": "2fd22528-3815-4524-9ee1-c56f2e25b07c"
      },
      "execution_count": null,
      "outputs": [
        {
          "output_type": "stream",
          "name": "stdout",
          "text": [
            "Collecting wandb\n",
            "  Downloading wandb-0.12.11-py2.py3-none-any.whl (1.7 MB)\n",
            "\u001b[K     |████████████████████████████████| 1.7 MB 5.4 MB/s \n",
            "\u001b[?25hCollecting yaspin>=1.0.0\n",
            "  Downloading yaspin-2.1.0-py3-none-any.whl (18 kB)\n",
            "Collecting GitPython>=1.0.0\n",
            "  Downloading GitPython-3.1.27-py3-none-any.whl (181 kB)\n",
            "\u001b[K     |████████████████████████████████| 181 kB 46.9 MB/s \n",
            "\u001b[?25hCollecting docker-pycreds>=0.4.0\n",
            "  Downloading docker_pycreds-0.4.0-py2.py3-none-any.whl (9.0 kB)\n",
            "Requirement already satisfied: PyYAML in /usr/local/lib/python3.7/dist-packages (from wandb) (3.13)\n",
            "Requirement already satisfied: six>=1.13.0 in /usr/local/lib/python3.7/dist-packages (from wandb) (1.15.0)\n",
            "Requirement already satisfied: Click!=8.0.0,>=7.0 in /usr/local/lib/python3.7/dist-packages (from wandb) (7.1.2)\n",
            "Collecting sentry-sdk>=1.0.0\n",
            "  Downloading sentry_sdk-1.5.6-py2.py3-none-any.whl (144 kB)\n",
            "\u001b[K     |████████████████████████████████| 144 kB 48.0 MB/s \n",
            "\u001b[?25hCollecting pathtools\n",
            "  Downloading pathtools-0.1.2.tar.gz (11 kB)\n",
            "Requirement already satisfied: python-dateutil>=2.6.1 in /usr/local/lib/python3.7/dist-packages (from wandb) (2.8.2)\n",
            "Collecting shortuuid>=0.5.0\n",
            "  Downloading shortuuid-1.0.8-py3-none-any.whl (9.5 kB)\n",
            "Requirement already satisfied: requests<3,>=2.0.0 in /usr/local/lib/python3.7/dist-packages (from wandb) (2.23.0)\n",
            "Requirement already satisfied: protobuf>=3.12.0 in /usr/local/lib/python3.7/dist-packages (from wandb) (3.17.3)\n",
            "Collecting setproctitle\n",
            "  Downloading setproctitle-1.2.2-cp37-cp37m-manylinux1_x86_64.whl (36 kB)\n",
            "Requirement already satisfied: psutil>=5.0.0 in /usr/local/lib/python3.7/dist-packages (from wandb) (5.4.8)\n",
            "Requirement already satisfied: promise<3,>=2.0 in /usr/local/lib/python3.7/dist-packages (from wandb) (2.3)\n",
            "Collecting gitdb<5,>=4.0.1\n",
            "  Downloading gitdb-4.0.9-py3-none-any.whl (63 kB)\n",
            "\u001b[K     |████████████████████████████████| 63 kB 1.7 MB/s \n",
            "\u001b[?25hRequirement already satisfied: typing-extensions>=3.7.4.3 in /usr/local/lib/python3.7/dist-packages (from GitPython>=1.0.0->wandb) (3.10.0.2)\n",
            "Collecting smmap<6,>=3.0.1\n",
            "  Downloading smmap-5.0.0-py3-none-any.whl (24 kB)\n",
            "Requirement already satisfied: idna<3,>=2.5 in /usr/local/lib/python3.7/dist-packages (from requests<3,>=2.0.0->wandb) (2.10)\n",
            "Requirement already satisfied: chardet<4,>=3.0.2 in /usr/local/lib/python3.7/dist-packages (from requests<3,>=2.0.0->wandb) (3.0.4)\n",
            "Requirement already satisfied: urllib3!=1.25.0,!=1.25.1,<1.26,>=1.21.1 in /usr/local/lib/python3.7/dist-packages (from requests<3,>=2.0.0->wandb) (1.24.3)\n",
            "Requirement already satisfied: certifi>=2017.4.17 in /usr/local/lib/python3.7/dist-packages (from requests<3,>=2.0.0->wandb) (2021.10.8)\n",
            "Requirement already satisfied: termcolor<2.0.0,>=1.1.0 in /usr/local/lib/python3.7/dist-packages (from yaspin>=1.0.0->wandb) (1.1.0)\n",
            "Building wheels for collected packages: pathtools\n",
            "  Building wheel for pathtools (setup.py) ... \u001b[?25l\u001b[?25hdone\n",
            "  Created wheel for pathtools: filename=pathtools-0.1.2-py3-none-any.whl size=8806 sha256=0faf5521a199c752ed870aa60ed82c9f4a4b5dffa63fd3dc969b9a8600c3f058\n",
            "  Stored in directory: /root/.cache/pip/wheels/3e/31/09/fa59cef12cdcfecc627b3d24273699f390e71828921b2cbba2\n",
            "Successfully built pathtools\n",
            "Installing collected packages: smmap, gitdb, yaspin, shortuuid, setproctitle, sentry-sdk, pathtools, GitPython, docker-pycreds, wandb\n",
            "Successfully installed GitPython-3.1.27 docker-pycreds-0.4.0 gitdb-4.0.9 pathtools-0.1.2 sentry-sdk-1.5.6 setproctitle-1.2.2 shortuuid-1.0.8 smmap-5.0.0 wandb-0.12.11 yaspin-2.1.0\n"
          ]
        }
      ]
    },
    {
      "cell_type": "code",
      "metadata": {
        "id": "M5w_Zj5Sxjem"
      },
      "source": [
        "import wandb\n",
        "\n",
        "# wandb.login() Не удается понять, что тут необходимо писать! Как залогиниться?\n",
        "\n",
        "# wandb.init()\n",
        "\n",
        "callbacks = [\n",
        "             tf.keras.callbacks.TensorBoard(log_dir='./logs')\n",
        "]"
      ],
      "execution_count": null,
      "outputs": []
    },
    {
      "cell_type": "code",
      "metadata": {
        "id": "7bM8coUaxjem"
      },
      "source": [
        "model.compile(\n",
        "    loss=keras.losses.CategoricalCrossentropy(),\n",
        "    # optimizer=tf.keras.optimizers.SGD(learning_rate=0.01, momentum=0.0, nesterov=False),\n",
        "    optimizer='adam',\n",
        "    metrics=[\"accuracy\"],\n",
        ")"
      ],
      "execution_count": null,
      "outputs": []
    },
    {
      "cell_type": "markdown",
      "source": [
        "С SGD не смог оптимизировать сеть до 45% accuracy, использую Adam"
      ],
      "metadata": {
        "id": "aTIedalLf0m8"
      }
    },
    {
      "cell_type": "code",
      "source": [
        "model.fit(\n",
        "    X_train,\n",
        "    y_train,\n",
        "    batch_size=2048,\n",
        "    epochs=30,\n",
        "    verbose=2,\n",
        "    callbacks=callbacks,\n",
        "    validation_data=(X_val, y_val),\n",
        ")"
      ],
      "metadata": {
        "id": "EuxEaW6-Z8I2"
      },
      "execution_count": null,
      "outputs": []
    },
    {
      "cell_type": "markdown",
      "metadata": {
        "id": "ZODNxMaQxjem"
      },
      "source": [
        "А теперь можно проверить качество вашей сети, выполнив код ниже:"
      ]
    },
    {
      "cell_type": "code",
      "metadata": {
        "scrolled": true,
        "id": "14l7JHe_xjem",
        "colab": {
          "base_uri": "https://localhost:8080/"
        },
        "outputId": "0cccdaac-210a-493f-c20b-43c605b299c2"
      },
      "source": [
        "pred=model.predict(X_test) \n",
        "pred_classes=np.argmax(pred, axis=1)\n",
        "\n",
        "test_acc = accuracy_score(y_test, pred_classes)\n",
        "print(\"\\n Test_acc =\", test_acc)\n",
        "assert test_acc > 0.45, \"Not good enough. Back to the drawing board :)\"\n",
        "print(\" Not bad!\")"
      ],
      "execution_count": null,
      "outputs": [
        {
          "output_type": "stream",
          "name": "stdout",
          "text": [
            "\n",
            " Test_acc = 0.4997\n",
            " Not bad!\n"
          ]
        }
      ]
    },
    {
      "cell_type": "markdown",
      "metadata": {
        "id": "cm_SvVrqxjen"
      },
      "source": [
        "## Карманная сверточная сеть\n",
        "\n",
        "**Задание 1.2 (обязательно)** Реализуйте небольшую свёрточную сеть. Совсем небольшую:\n",
        "1. Входной слой\n",
        "2. Свёртка 3x3 с 10 фильтрами\n",
        "3. Нелинейность на ваш вкус\n",
        "4. Max-pooling 2x2\n",
        "5. Вытягиваем оставшееся в вектор (Flatten)\n",
        "6. Полносвязный слой на 100 нейронов\n",
        "7. Нелинейность на ваш вкус\n",
        "8. Выходной полносвязный слой с softmax\n",
        "\n",
        "Обучите её так же, как и предыдущую сеть. Если всё хорошо, у вас получится accuracy не меньше __50%__."
      ]
    },
    {
      "cell_type": "code",
      "metadata": {
        "scrolled": true,
        "id": "bu_Sg2sCxjeo"
      },
      "source": [
        "model_1 = keras.Sequential([\n",
        "    keras.layers.Conv2D(\n",
        "        filters = 10,\n",
        "        kernel_size = (3,3),\n",
        "        padding = 'same',\n",
        "        activation = 'relu',\n",
        "        input_shape = X_train.shape[1:]),\n",
        "    keras.layers.MaxPool2D(\n",
        "        pool_size = (2,2),\n",
        "        padding = 'valid'),\n",
        "\n",
        "    keras.layers.Flatten(),\n",
        "    keras.layers.Dense(100, activation='relu'),\n",
        "    keras.layers.Dense(10, activation='softmax')\n",
        "])"
      ],
      "execution_count": null,
      "outputs": []
    },
    {
      "cell_type": "code",
      "source": [
        "model_1.compile(\n",
        "    loss=keras.losses.CategoricalCrossentropy(),\n",
        "    # optimizer=tf.keras.optimizers.SGD(learning_rate=0.01, momentum=0.0, nesterov=False),\n",
        "    optimizer='adam',\n",
        "    metrics=[\"accuracy\"],\n",
        ")"
      ],
      "metadata": {
        "id": "PgmgQCRlgoXW"
      },
      "execution_count": null,
      "outputs": []
    },
    {
      "cell_type": "code",
      "source": [
        "model_1.fit(\n",
        "    X_train,\n",
        "    y_train,\n",
        "    batch_size=2048,\n",
        "    epochs=30,\n",
        "    verbose=2,\n",
        "    callbacks=callbacks,\n",
        "    validation_data=(X_val, y_val),\n",
        ")"
      ],
      "metadata": {
        "colab": {
          "base_uri": "https://localhost:8080/"
        },
        "id": "LTRxKjFjgue2",
        "outputId": "83580f35-377e-4880-d4d2-e2c579f58cf7"
      },
      "execution_count": null,
      "outputs": [
        {
          "output_type": "stream",
          "name": "stdout",
          "text": [
            "Epoch 1/30\n",
            "20/20 - 2s - loss: 2.1461 - accuracy: 0.2403 - val_loss: 1.9403 - val_accuracy: 0.3335 - 2s/epoch - 101ms/step\n",
            "Epoch 2/30\n",
            "20/20 - 1s - loss: 1.8539 - accuracy: 0.3607 - val_loss: 1.7902 - val_accuracy: 0.3733 - 960ms/epoch - 48ms/step\n",
            "Epoch 3/30\n",
            "20/20 - 1s - loss: 1.7336 - accuracy: 0.4022 - val_loss: 1.6997 - val_accuracy: 0.4052 - 982ms/epoch - 49ms/step\n",
            "Epoch 4/30\n",
            "20/20 - 1s - loss: 1.6516 - accuracy: 0.4288 - val_loss: 1.6232 - val_accuracy: 0.4394 - 783ms/epoch - 39ms/step\n",
            "Epoch 5/30\n",
            "20/20 - 1s - loss: 1.5793 - accuracy: 0.4552 - val_loss: 1.5763 - val_accuracy: 0.4485 - 771ms/epoch - 39ms/step\n",
            "Epoch 6/30\n",
            "20/20 - 1s - loss: 1.5264 - accuracy: 0.4720 - val_loss: 1.5193 - val_accuracy: 0.4679 - 766ms/epoch - 38ms/step\n",
            "Epoch 7/30\n",
            "20/20 - 1s - loss: 1.4812 - accuracy: 0.4834 - val_loss: 1.4856 - val_accuracy: 0.4834 - 735ms/epoch - 37ms/step\n",
            "Epoch 8/30\n",
            "20/20 - 1s - loss: 1.4440 - accuracy: 0.4988 - val_loss: 1.4671 - val_accuracy: 0.4870 - 747ms/epoch - 37ms/step\n",
            "Epoch 9/30\n",
            "20/20 - 1s - loss: 1.4128 - accuracy: 0.5090 - val_loss: 1.4332 - val_accuracy: 0.4924 - 766ms/epoch - 38ms/step\n",
            "Epoch 10/30\n",
            "20/20 - 1s - loss: 1.3837 - accuracy: 0.5193 - val_loss: 1.4132 - val_accuracy: 0.4984 - 728ms/epoch - 36ms/step\n",
            "Epoch 11/30\n",
            "20/20 - 1s - loss: 1.3616 - accuracy: 0.5240 - val_loss: 1.3915 - val_accuracy: 0.5045 - 775ms/epoch - 39ms/step\n",
            "Epoch 12/30\n",
            "20/20 - 1s - loss: 1.3433 - accuracy: 0.5300 - val_loss: 1.3715 - val_accuracy: 0.5188 - 749ms/epoch - 37ms/step\n",
            "Epoch 13/30\n",
            "20/20 - 1s - loss: 1.3264 - accuracy: 0.5371 - val_loss: 1.3618 - val_accuracy: 0.5254 - 734ms/epoch - 37ms/step\n",
            "Epoch 14/30\n",
            "20/20 - 1s - loss: 1.3033 - accuracy: 0.5456 - val_loss: 1.3503 - val_accuracy: 0.5264 - 740ms/epoch - 37ms/step\n",
            "Epoch 15/30\n",
            "20/20 - 1s - loss: 1.2899 - accuracy: 0.5504 - val_loss: 1.3404 - val_accuracy: 0.5303 - 758ms/epoch - 38ms/step\n",
            "Epoch 16/30\n",
            "20/20 - 1s - loss: 1.2754 - accuracy: 0.5548 - val_loss: 1.3218 - val_accuracy: 0.5402 - 780ms/epoch - 39ms/step\n",
            "Epoch 17/30\n",
            "20/20 - 1s - loss: 1.2613 - accuracy: 0.5605 - val_loss: 1.3140 - val_accuracy: 0.5381 - 741ms/epoch - 37ms/step\n",
            "Epoch 18/30\n",
            "20/20 - 1s - loss: 1.2451 - accuracy: 0.5660 - val_loss: 1.3117 - val_accuracy: 0.5446 - 776ms/epoch - 39ms/step\n",
            "Epoch 19/30\n",
            "20/20 - 1s - loss: 1.2353 - accuracy: 0.5691 - val_loss: 1.2878 - val_accuracy: 0.5513 - 713ms/epoch - 36ms/step\n",
            "Epoch 20/30\n",
            "20/20 - 1s - loss: 1.2296 - accuracy: 0.5710 - val_loss: 1.2854 - val_accuracy: 0.5556 - 748ms/epoch - 37ms/step\n",
            "Epoch 21/30\n",
            "20/20 - 1s - loss: 1.2196 - accuracy: 0.5748 - val_loss: 1.2938 - val_accuracy: 0.5444 - 773ms/epoch - 39ms/step\n",
            "Epoch 22/30\n",
            "20/20 - 1s - loss: 1.2097 - accuracy: 0.5810 - val_loss: 1.2687 - val_accuracy: 0.5595 - 754ms/epoch - 38ms/step\n",
            "Epoch 23/30\n",
            "20/20 - 1s - loss: 1.1950 - accuracy: 0.5850 - val_loss: 1.2715 - val_accuracy: 0.5580 - 749ms/epoch - 37ms/step\n",
            "Epoch 24/30\n",
            "20/20 - 1s - loss: 1.1891 - accuracy: 0.5867 - val_loss: 1.2655 - val_accuracy: 0.5587 - 757ms/epoch - 38ms/step\n",
            "Epoch 25/30\n",
            "20/20 - 1s - loss: 1.1764 - accuracy: 0.5918 - val_loss: 1.2567 - val_accuracy: 0.5640 - 760ms/epoch - 38ms/step\n",
            "Epoch 26/30\n",
            "20/20 - 1s - loss: 1.1695 - accuracy: 0.5942 - val_loss: 1.2756 - val_accuracy: 0.5518 - 763ms/epoch - 38ms/step\n",
            "Epoch 27/30\n",
            "20/20 - 1s - loss: 1.1667 - accuracy: 0.5949 - val_loss: 1.2436 - val_accuracy: 0.5679 - 768ms/epoch - 38ms/step\n",
            "Epoch 28/30\n",
            "20/20 - 1s - loss: 1.1560 - accuracy: 0.5966 - val_loss: 1.2509 - val_accuracy: 0.5629 - 744ms/epoch - 37ms/step\n",
            "Epoch 29/30\n",
            "20/20 - 1s - loss: 1.1564 - accuracy: 0.5954 - val_loss: 1.2355 - val_accuracy: 0.5705 - 725ms/epoch - 36ms/step\n",
            "Epoch 30/30\n",
            "20/20 - 1s - loss: 1.1399 - accuracy: 0.6040 - val_loss: 1.2330 - val_accuracy: 0.5695 - 765ms/epoch - 38ms/step\n"
          ]
        },
        {
          "output_type": "execute_result",
          "data": {
            "text/plain": [
              "<keras.callbacks.History at 0x7f6479311510>"
            ]
          },
          "metadata": {},
          "execution_count": 51
        }
      ]
    },
    {
      "cell_type": "markdown",
      "metadata": {
        "id": "f37ZT8T4xjeo"
      },
      "source": [
        "Давайте посмотрим, смогла ли карманная сверточная сеть побить заданный порог по качеству:"
      ]
    },
    {
      "cell_type": "code",
      "metadata": {
        "id": "IAYvMxhTxjep",
        "colab": {
          "base_uri": "https://localhost:8080/"
        },
        "outputId": "83a14320-46d2-4479-e6e4-e8ac11b3b42d"
      },
      "source": [
        "pred_1=model_1.predict(X_test) \n",
        "pred_1_classes=np.argmax(pred_1, axis=1)\n",
        "\n",
        "test_acc_1 = accuracy_score(y_test, pred_1_classes)\n",
        "print(\"\\n Test_acc_1 =\", test_acc_1)\n",
        "assert test_acc_1 > 0.5, \"Not good enough. Back to the drawing board :)\"\n",
        "print(\" Not bad!\")"
      ],
      "execution_count": null,
      "outputs": [
        {
          "output_type": "stream",
          "name": "stdout",
          "text": [
            "\n",
            " Test_acc_1 = 0.5956\n",
            " Not bad!\n"
          ]
        }
      ]
    },
    {
      "cell_type": "code",
      "source": [
        ""
      ],
      "metadata": {
        "id": "J-t5QUPtAoAr"
      },
      "execution_count": null,
      "outputs": []
    },
    {
      "cell_type": "markdown",
      "metadata": {
        "id": "How0uQPzxjep"
      },
      "source": [
        "## Учимся учить\n",
        "\n",
        "А теперь научимся сравнивать кривые обучения моделей — зависимости значения accuracy от количества итераций. \n",
        "\n",
        "Вам потребуется реализовать _экспериментальный стенд_ — вспомогательный код, в который вы сможете подать несколько архитектур и методов обучения, чтобы он их обучил и вывел графики кривых обучения. Это можно сделать с помощью `keras.callbacks` — `TensorBoard` или `History`.\n",
        "\n",
        "Будьте морально готовы, что на обучение уйдёт _много времени_. Даже если вы ограничитесь 10 эпохами. Пока идёт обучение, вы можете переключиться на другие задания или заняться чем-нибудь приятным: поспать, например."
      ]
    },
    {
      "cell_type": "markdown",
      "metadata": {
        "id": "VwmdGNIHxjep"
      },
      "source": [
        "**Задание 1.3 (опционально)** Попробуйте использовать различные методы оптимизации (sgd, momentum, adam) с параметрами по умолчанию. Какой из методов работает лучше?"
      ]
    },
    {
      "cell_type": "markdown",
      "metadata": {
        "id": "LsF9iIFGxjeq"
      },
      "source": [
        "Для удобства напишем класс Evaluator, который принимает в себя дикты виды {имя_оптимайзера: инстанс}, {имя модели: инстанс} и обучает всевозможные комбинации моделей с оптимайзерами при помощи метода fit (попутно записывая логи отдельно для каждой модели). Также пригодится метод evaluate для отображения итоговых скоров."
      ]
    },
    {
      "cell_type": "markdown",
      "metadata": {
        "id": "FBtU0x2X5gmG"
      },
      "source": [
        "Пользоваться классом не обязательно. По умолчанию класс использует tensorboard. Если вы выше использовали wandb -- советуем дописать callback."
      ]
    },
    {
      "cell_type": "code",
      "metadata": {
        "id": "n6pRKzaKxjeq"
      },
      "source": [
        "class Evaluator(list):\n",
        "    def __init__(self, models, optimizers='adam', loss=keras.losses.categorical_crossentropy,\n",
        "                 metrics=[keras.metrics.categorical_accuracy]):\n",
        "        '''\n",
        "            models: dict {name: model}\n",
        "            optimizers: list of optimizers or just one optimizer\n",
        "        '''\n",
        "        if not isinstance(models, dict):\n",
        "            models = {'single_model': models}\n",
        "        if not isinstance(optimizers, dict):\n",
        "            optimizers = {str(optimizers.__class__): optimizers}\n",
        "        super().__init__([(model_name, keras.models.clone_model(model), optimizer_name, optimizer)\n",
        "                          for model_name, model in models.items()\n",
        "                          for optimizer_name, optimizer in optimizers.items()])\n",
        "        for _, model, _, optimizer in self:\n",
        "            model.compile(optimizer=optimizer, loss=loss, metrics=metrics)\n",
        "            \n",
        "    def fit(self, X, y, validation_data=(), max_epochs=100, verbose=0, callbacks=[], batch_size=32):\n",
        "        if not isinstance(callbacks, list):\n",
        "            callbacks = [callbacks]\n",
        "        for model_name, model, optimizer_name, optimizer in tqdm_notebook(self):\n",
        "            model.fit(X, y, validation_data=validation_data or None, epochs=max_epochs, verbose=verbose,\n",
        "                      batch_size=batch_size, callbacks=callbacks + [keras.callbacks.TensorBoard(\n",
        "                          log_dir='./logs/{}_{}'.format(model_name, optimizer_name))])\n",
        "            \n",
        "    def fit_generator(self, X, y, validation_data=(), max_epochs=100, verbose=1, callbacks=[], batch_size=32):\n",
        "        datagen = keras.preprocessing.image.ImageDataGenerator(\n",
        "            rotation_range=20,\n",
        "            width_shift_range=0.2,\n",
        "            height_shift_range=0.2,\n",
        "            horizontal_flip=True\n",
        "        )\n",
        "        if not isinstance(callbacks, list):\n",
        "            callbacks = [callbacks]\n",
        "        for model_name, model, optimizer_name, optimizer in tqdm_notebook(self):\n",
        "            model.fit_generator(datagen.flow(X, y, batch_size=batch_size), epochs=max_epochs,\n",
        "                validation_data=validation_data or None, verbose=verbose,\n",
        "                callbacks=callbacks + [keras.callbacks.TensorBoard(\n",
        "                    log_dir='./logs/{}_{}'.format(model_name, optimizer_name))])\n",
        "        \n",
        "    def evaluate(self, X, y, metric):\n",
        "        for model_name, model, optimizer_name, _ in self:\n",
        "            predict = model.predict(X_test)\n",
        "            predict_classes = np.argmax(predict, axis=1)\n",
        "            print('Final score of {}_{} is {}'.format(model_name, optimizer_name,\n",
        "                  metric(y_test, predict_classes)))"
      ],
      "execution_count": null,
      "outputs": []
    },
    {
      "cell_type": "code",
      "metadata": {
        "id": "vpAWyAs7xjer"
      },
      "source": [
        "!rm -rf ./logs"
      ],
      "execution_count": null,
      "outputs": []
    },
    {
      "cell_type": "code",
      "metadata": {
        "id": "FLtng4Cwxjer"
      },
      "source": [
        "optimizers = {\n",
        "    'SGD': tf.keras.optimizers.SGD(),\n",
        "    'Adam': tf.keras.optimizers.Adam(),\n",
        "    'RMSprop': tf.keras.optimizers.RMSprop()\n",
        "    # 'optimizer_name': optimizer\n",
        "}"
      ],
      "execution_count": null,
      "outputs": []
    },
    {
      "cell_type": "code",
      "metadata": {
        "id": "RQJqV2vjxjes",
        "colab": {
          "base_uri": "https://localhost:8080/",
          "height": 136,
          "referenced_widgets": [
            "0b83431d5c104ba6ad4a7d18777d1f5e",
            "1537e910870744be8c6dc37cb32952fe",
            "3595913e9c0c4d008ab7cfd54f8a46d9",
            "0182d2c82c764c3a996f5228da5ced2b",
            "3e2907aa4f124746a271a76ebf576ab0",
            "a1a811b39dca43fcb7c249c42a3e6024",
            "611ed9438b144961924de9d1b661737a",
            "de7293e6a69149f9940348b53b4fbded",
            "ca279b1555754b8187e06eeace1fb330",
            "e6c3b733e6964fba9bec22629e70ab44",
            "3327da6fde0f468393880aa29ff95f57"
          ]
        },
        "outputId": "3066a348-f0a4-4df6-de35-eb9fe6025fb0"
      },
      "source": [
        "evaluator = Evaluator(model_1, optimizers=optimizers)\n",
        "evaluator.fit(X_train, y_train, validation_data=(X_val, y_val))\n",
        "evaluator.evaluate(X_test, y_test, accuracy_score)"
      ],
      "execution_count": null,
      "outputs": [
        {
          "output_type": "stream",
          "name": "stderr",
          "text": [
            "/usr/local/lib/python3.7/dist-packages/ipykernel_launcher.py:21: TqdmDeprecationWarning: This function will be removed in tqdm==5.0.0\n",
            "Please use `tqdm.notebook.tqdm` instead of `tqdm.tqdm_notebook`\n"
          ]
        },
        {
          "output_type": "display_data",
          "data": {
            "application/vnd.jupyter.widget-view+json": {
              "model_id": "0b83431d5c104ba6ad4a7d18777d1f5e",
              "version_minor": 0,
              "version_major": 2
            },
            "text/plain": [
              "  0%|          | 0/3 [00:00<?, ?it/s]"
            ]
          },
          "metadata": {}
        },
        {
          "output_type": "stream",
          "name": "stdout",
          "text": [
            "Final score of single_model_SGD is 0.5848\n",
            "Final score of single_model_Adam is 0.547\n",
            "Final score of single_model_RMSprop is 0.5621\n"
          ]
        }
      ]
    },
    {
      "cell_type": "markdown",
      "metadata": {
        "id": "uFMVTSbtxjes"
      },
      "source": [
        "Прокомментируйте полученные результаты.\n",
        "\n",
        "Вариант с оптимизацией по SGD вышла немногим лучше, ожидал лучшего качества модели с Adam оптимизацией"
      ]
    },
    {
      "cell_type": "code",
      "metadata": {
        "id": "C3q4UPvu3Y7M"
      },
      "source": [
        ""
      ],
      "execution_count": null,
      "outputs": []
    },
    {
      "cell_type": "markdown",
      "metadata": {
        "id": "MVkaJnLWxjet"
      },
      "source": [
        "**Задание 1.4 (опционально)** Добавьте нормализацию по батчу (`BatchNormalization`) между свёрткой и активацией. Попробуйте использовать несколько нормализаций — в свёрточных и полносвязных слоях."
      ]
    },
    {
      "cell_type": "markdown",
      "metadata": {
        "id": "ppe0LGStxjet"
      },
      "source": [
        "Для удобства реализуем класс Models, который по сути будет являться списком моделей с двумя методами: add (добавить слой ко всем моделям) и add_create (создать новую модель на основе базовой с дополнительным слоем). Пользоваться им необязательно, но вдруг :)"
      ]
    },
    {
      "cell_type": "code",
      "metadata": {
        "id": "2zX9hd6Kxjet"
      },
      "source": [
        "from collections import OrderedDict\n",
        "\n",
        "class Models(OrderedDict):\n",
        "    def __init__(self, models):\n",
        "        if not isinstance(models, dict):\n",
        "            models = OrderedDict({'base_model': models})\n",
        "        super().__init__(models)\n",
        "        \n",
        "    def add(self, layer):\n",
        "        for name, model in self.items():\n",
        "            model.add(layer)\n",
        "            \n",
        "    def add_create(self, name, layer):\n",
        "        base_model = next(iter(self.items()))[1]\n",
        "        new_model = keras.models.clone_model(base_model)\n",
        "        new_model.add(layer)\n",
        "        self.update({name: new_model})\n",
        "        \n",
        "    def add_update(self, name, layer):\n",
        "        base_model = self[next(reversed(self))]\n",
        "        new_model = keras.models.clone_model(base_model)\n",
        "        new_model.add(layer)\n",
        "        self.update({name: new_model})\n",
        "\n",
        "# Example of usage \n",
        "# models = Models(keras.Sequential())\n",
        "# models.add(L.InputLayer(input_shape=(32, 32, 3)))\n",
        "# models.add(L.Convolution2D(filters=10, kernel_size=(3, 3)))\n",
        "# models.add(L.MaxPooling2D())\n",
        "# models.add_create('conv_batchnorm', L.BatchNormalization())\n",
        "# models.add(L.Activation('relu'))\n",
        "# ..."
      ],
      "execution_count": null,
      "outputs": []
    },
    {
      "cell_type": "code",
      "metadata": {
        "id": "ORtpt21G31YV",
        "colab": {
          "base_uri": "https://localhost:8080/"
        },
        "outputId": "78a353b1-2f06-4c7c-ec38-dedc8d1c88d4"
      },
      "source": [
        "model_2 = keras.Sequential([\n",
        "    keras.layers.Conv2D(\n",
        "        filters = 10,\n",
        "        kernel_size = (3,3),\n",
        "        padding = 'same',\n",
        "        activation = 'relu',\n",
        "        input_shape = X_train.shape[1:]),\n",
        "    keras.layers.MaxPool2D(\n",
        "        pool_size = (2,2),\n",
        "        padding = 'valid'),\n",
        "\n",
        "    keras.layers.BatchNormalization(),\n",
        "    keras.layers.Flatten(),\n",
        "    keras.layers.Dense(100, activation='relu'),\n",
        "    keras.layers.Dropout(0.2),\n",
        "    keras.layers.Dense(10, activation='softmax')\n",
        "])\n",
        "\n",
        "model_2.compile(\n",
        "    loss=keras.losses.CategoricalCrossentropy(),\n",
        "    # optimizer=tf.keras.optimizers.SGD(learning_rate=0.01, momentum=0.0, nesterov=False),\n",
        "    optimizer='adam',\n",
        "    metrics=[\"accuracy\"],\n",
        ")\n",
        "\n",
        "callbacks = [\n",
        "    tf.keras.callbacks.TensorBoard(log_dir='./logs'),\n",
        "    tf.keras.callbacks.EarlyStopping(monitor='loss', patience=3)\n",
        "]\n",
        "\n",
        "model_2.fit(\n",
        "    X_train,\n",
        "    y_train,\n",
        "    batch_size=2048,\n",
        "    epochs=30,\n",
        "    verbose=2,\n",
        "    callbacks=callbacks,\n",
        "    validation_data=(X_val, y_val),\n",
        ")\n",
        "\n",
        "pred_2=model_2.predict(X_test) \n",
        "pred_2_classes=np.argmax(pred_2, axis=1)\n",
        "\n",
        "test_acc_2 = accuracy_score(y_test, pred_2_classes)\n",
        "print(\"\\n Test_acc_2 =\", test_acc_2)"
      ],
      "execution_count": null,
      "outputs": [
        {
          "output_type": "stream",
          "name": "stdout",
          "text": [
            "Epoch 1/30\n",
            "20/20 - 2s - loss: 1.9721 - accuracy: 0.3235 - val_loss: 2.1127 - val_accuracy: 0.2608 - 2s/epoch - 97ms/step\n",
            "Epoch 2/30\n",
            "20/20 - 1s - loss: 1.5830 - accuracy: 0.4477 - val_loss: 2.0533 - val_accuracy: 0.2996 - 808ms/epoch - 40ms/step\n",
            "Epoch 3/30\n",
            "20/20 - 1s - loss: 1.4005 - accuracy: 0.5116 - val_loss: 2.0380 - val_accuracy: 0.3423 - 809ms/epoch - 40ms/step\n",
            "Epoch 4/30\n",
            "20/20 - 1s - loss: 1.2763 - accuracy: 0.5538 - val_loss: 2.0060 - val_accuracy: 0.4114 - 804ms/epoch - 40ms/step\n",
            "Epoch 5/30\n",
            "20/20 - 1s - loss: 1.1781 - accuracy: 0.5870 - val_loss: 1.9940 - val_accuracy: 0.4052 - 766ms/epoch - 38ms/step\n",
            "Epoch 6/30\n",
            "20/20 - 1s - loss: 1.1001 - accuracy: 0.6155 - val_loss: 1.9699 - val_accuracy: 0.3869 - 800ms/epoch - 40ms/step\n",
            "Epoch 7/30\n",
            "20/20 - 1s - loss: 1.0324 - accuracy: 0.6410 - val_loss: 1.9202 - val_accuracy: 0.4224 - 758ms/epoch - 38ms/step\n",
            "Epoch 8/30\n",
            "20/20 - 1s - loss: 0.9776 - accuracy: 0.6596 - val_loss: 1.8685 - val_accuracy: 0.4560 - 820ms/epoch - 41ms/step\n",
            "Epoch 9/30\n",
            "20/20 - 1s - loss: 0.9263 - accuracy: 0.6763 - val_loss: 1.8004 - val_accuracy: 0.4952 - 765ms/epoch - 38ms/step\n",
            "Epoch 10/30\n",
            "20/20 - 1s - loss: 0.8786 - accuracy: 0.6939 - val_loss: 1.7812 - val_accuracy: 0.4818 - 769ms/epoch - 38ms/step\n",
            "Epoch 11/30\n",
            "20/20 - 1s - loss: 0.8406 - accuracy: 0.7089 - val_loss: 1.7370 - val_accuracy: 0.4943 - 749ms/epoch - 37ms/step\n",
            "Epoch 12/30\n",
            "20/20 - 1s - loss: 0.8027 - accuracy: 0.7204 - val_loss: 1.6448 - val_accuracy: 0.5492 - 796ms/epoch - 40ms/step\n",
            "Epoch 13/30\n",
            "20/20 - 1s - loss: 0.7703 - accuracy: 0.7323 - val_loss: 1.6086 - val_accuracy: 0.5372 - 786ms/epoch - 39ms/step\n",
            "Epoch 14/30\n",
            "20/20 - 1s - loss: 0.7354 - accuracy: 0.7458 - val_loss: 1.5243 - val_accuracy: 0.5608 - 811ms/epoch - 41ms/step\n",
            "Epoch 15/30\n",
            "20/20 - 1s - loss: 0.7015 - accuracy: 0.7589 - val_loss: 1.4760 - val_accuracy: 0.5778 - 758ms/epoch - 38ms/step\n",
            "Epoch 16/30\n",
            "20/20 - 1s - loss: 0.6740 - accuracy: 0.7670 - val_loss: 1.4182 - val_accuracy: 0.5762 - 784ms/epoch - 39ms/step\n",
            "Epoch 17/30\n",
            "20/20 - 1s - loss: 0.6446 - accuracy: 0.7781 - val_loss: 1.3450 - val_accuracy: 0.5871 - 802ms/epoch - 40ms/step\n",
            "Epoch 18/30\n",
            "20/20 - 1s - loss: 0.6228 - accuracy: 0.7863 - val_loss: 1.3323 - val_accuracy: 0.5943 - 766ms/epoch - 38ms/step\n",
            "Epoch 19/30\n",
            "20/20 - 1s - loss: 0.5947 - accuracy: 0.7954 - val_loss: 1.2471 - val_accuracy: 0.6028 - 801ms/epoch - 40ms/step\n",
            "Epoch 20/30\n",
            "20/20 - 1s - loss: 0.5706 - accuracy: 0.8038 - val_loss: 1.2363 - val_accuracy: 0.6039 - 752ms/epoch - 38ms/step\n",
            "Epoch 21/30\n",
            "20/20 - 1s - loss: 0.5433 - accuracy: 0.8138 - val_loss: 1.1785 - val_accuracy: 0.6070 - 759ms/epoch - 38ms/step\n",
            "Epoch 22/30\n",
            "20/20 - 1s - loss: 0.5313 - accuracy: 0.8177 - val_loss: 1.1494 - val_accuracy: 0.6133 - 762ms/epoch - 38ms/step\n",
            "Epoch 23/30\n",
            "20/20 - 1s - loss: 0.5073 - accuracy: 0.8255 - val_loss: 1.1466 - val_accuracy: 0.6076 - 793ms/epoch - 40ms/step\n",
            "Epoch 24/30\n",
            "20/20 - 1s - loss: 0.4872 - accuracy: 0.8349 - val_loss: 1.1046 - val_accuracy: 0.6194 - 807ms/epoch - 40ms/step\n",
            "Epoch 25/30\n",
            "20/20 - 1s - loss: 0.4715 - accuracy: 0.8387 - val_loss: 1.1046 - val_accuracy: 0.6188 - 788ms/epoch - 39ms/step\n",
            "Epoch 26/30\n",
            "20/20 - 1s - loss: 0.4560 - accuracy: 0.8456 - val_loss: 1.1187 - val_accuracy: 0.6147 - 774ms/epoch - 39ms/step\n",
            "Epoch 27/30\n",
            "20/20 - 1s - loss: 0.4393 - accuracy: 0.8496 - val_loss: 1.1145 - val_accuracy: 0.6231 - 764ms/epoch - 38ms/step\n",
            "Epoch 28/30\n",
            "20/20 - 1s - loss: 0.4193 - accuracy: 0.8594 - val_loss: 1.1166 - val_accuracy: 0.6191 - 758ms/epoch - 38ms/step\n",
            "Epoch 29/30\n",
            "20/20 - 1s - loss: 0.4067 - accuracy: 0.8600 - val_loss: 1.1386 - val_accuracy: 0.6265 - 767ms/epoch - 38ms/step\n",
            "Epoch 30/30\n",
            "20/20 - 1s - loss: 0.3925 - accuracy: 0.8695 - val_loss: 1.1242 - val_accuracy: 0.6276 - 796ms/epoch - 40ms/step\n",
            "\n",
            " Test_acc_2 = 0.62\n"
          ]
        }
      ]
    },
    {
      "cell_type": "markdown",
      "metadata": {
        "id": "VUBUmZoB0Izj"
      },
      "source": [
        "Прокомментируйте полученные результаты.\n",
        "\n",
        "Качество на тренировочных данных приближается к максимуму, однако мы видим переобучение, необходимо добавить DropOut"
      ]
    },
    {
      "cell_type": "code",
      "metadata": {
        "id": "wBUuoOXf3yMx"
      },
      "source": [
        ""
      ],
      "execution_count": null,
      "outputs": []
    },
    {
      "cell_type": "markdown",
      "metadata": {
        "id": "G3Doml67xjev"
      },
      "source": [
        "**Задание 1.5 (опционально)** Посмотрите на batch_size (параметр model.fit) - при большем батче модель будет быстрее проходить эпохи, но с совсем огромным батчом вам потребуется больше эпох для сходимости (т.к. сеть делает меньше шагов за одну эпоху).\n",
        "Найдите такое значение, при котором модель быстрее достигает точности 55%. **Hint**: используйте early stopping callback."
      ]
    },
    {
      "cell_type": "markdown",
      "metadata": {
        "id": "L1GsMtyIxjew"
      },
      "source": [
        "**Задание 1.6 (опционально)** Попробуйте найти такую комбинацию метода обучения и нормализации, при которой сеть имеет наилучшую кривую обучения. Поясните, что вы понимаете под \"наилучшей\" кривой обучения."
      ]
    },
    {
      "cell_type": "markdown",
      "source": [
        "У меня так и не вышло построить кривую, но предположу по аналогии ROC AUC, лучшая кривая та, под которой охватывается большая площадь"
      ],
      "metadata": {
        "id": "M4VPipMnY1am"
      }
    },
    {
      "cell_type": "code",
      "source": [
        ""
      ],
      "metadata": {
        "id": "e5jDfHnQYfdj"
      },
      "execution_count": null,
      "outputs": []
    },
    {
      "cell_type": "markdown",
      "metadata": {
        "id": "-unmmw3Txjey"
      },
      "source": [
        "## Свёрточная нейросеть здорового человека\n",
        "\n",
        "**Задание 1.7 (обязательно попытаться)** Наигравшись выше, обучим большую свёрточную сеть, которая даст на тестовой выборке __accuracy больше 80%__. В этом задании вам потребуется провести эксперименты, сравнив их между собой в конце. Возможно, может быть несколько проще, если писать выводы во время или сразу после каждого эксперимента, после чего сделать общие выводы.\n",
        "\n",
        "Рекомендуем начать с лучшей модели предыдущего задания и постепенно её улучшать. Вы можете использовать всё, что угодно: любые активации, сколь угодно большие свёрточные слои и глубокие сети. Единственное ограничение: __нельзя использовать предобученные сети и дополнительные данные__.\n",
        "\n",
        "### Полезные советы\n",
        "* Для начала, неплохо бы научить что-нибудь побольше, чем 10 фильтров 3x3.\n",
        "* __Главное правило: одно изменение на эксперимент__. Если у вас есть 2 идеи по улучшению сети, сначала попробуйте их независимо. Может оказаться, что одно из них дало __+10%__ точности а другое __-7%__. А вы так и будете думать, что сделали 2 полезных изменения которые в сумме дают __+3%__. Если какая-то идея не работает — даже если она вам нравится - опишите ее и выкидывайте из дальнейших экспериментов.\n",
        "* __Be careful or you will dropout__. Дропаут (`L.Dropout`) может позволить вам обучить в несколько раз бОльшую сеть без переобучения, выжав несколько процентов качества. Это круто, но не стоит сразу ставить dropout 50%. Во-первых, слишком сильный дропаут только ухудшит сеть (underfitting). Во-вторых, даже если дропаут улучшает качество, он замедляет обучение. Рекомендуем начинать с небольшого дропаута, быстро провести основные эксперименты, а потом жахнуть в 2 раза больше нейронов и дропаута ~~на ночь~~.\n",
        "* __Аугментация данных__. Если котика слегка повернуть и подрезать (простите), он всё равно останется котиком. А в керасе есть [удобный класс](https://keras.io/preprocessing/image/), который поставит подрезание котиков на поток. Ещё можно сделать этот трюк в тесте: вертим картинку 10 раз, предсказываем вероятности и усредняем. Только один совет: прежде, чем учить, посмотрите глазами на аугментированные картинки. Если вы сами не можете их различить, то и сеть не сможет.\n",
        "* __Don't just stack more layers__. Есть более эффективные способы организовать слои, чем простой Sequential. Вот пара идей: [Inception family](https://hacktilldawn.com/2016/09/25/inception-modules-explained-and-implemented/), [ResNet family](https://towardsdatascience.com/an-overview-of-resnet-and-its-variants-5281e2f56035?gi=9018057983ca), [Densely-connected convolutions](https://arxiv.org/abs/1608.06993). Только не копируйте архитектуру подчистую — вам скорее всего хватит меньшего размера.\n",
        "* __Долго != плохо__. Более глубокие архитектуры обычно требуют бОльше эпох до сходимости. Это значит, что в первые несколько эпох они могут быть хуже менее глубоких аналогов. Дайте им время, запаситесь чаем и обмажьтесь batch-norm-ом."
      ]
    },
    {
      "cell_type": "code",
      "metadata": {
        "id": "fJkfhCNZ2ZEs"
      },
      "source": [
        "def get_best_model(batch_size=2048, filters = [10, 16], kernel_size = [(5,5), (5,5)], hid_size=[100, 100], dropout=[0.1, 0,1], verbose=0):\n",
        "    model = keras.Sequential([\n",
        "        keras.layers.Conv2D(\n",
        "            filters = filters[0],\n",
        "            kernel_size = kernel_size[0],\n",
        "            padding = 'same',\n",
        "            activation = 'relu',\n",
        "            input_shape = X_train.shape[1:]),\n",
        "        keras.layers.MaxPool2D(\n",
        "            pool_size = (2,2),\n",
        "            padding = 'valid'),\n",
        "\n",
        "        keras.layers.Conv2D(\n",
        "            filters = filters[1],\n",
        "            kernel_size = kernel_size[1],\n",
        "            padding = 'same',\n",
        "            activation = 'relu'),\n",
        "        keras.layers.MaxPool2D(\n",
        "            pool_size = (2,2),\n",
        "            padding = 'valid'),\n",
        "\n",
        "        keras.layers.BatchNormalization(),\n",
        "        keras.layers.Flatten(),\n",
        "        keras.layers.Dense(hid_size[0], activation='relu'),\n",
        "        keras.layers.Dropout(dropout[0]),\n",
        "        keras.layers.Dense(hid_size[1], activation='relu'),\n",
        "        keras.layers.Dropout(dropout[1]),\n",
        "        keras.layers.Dense(10, activation='softmax')\n",
        "    ])\n",
        "\n",
        "    model.compile(\n",
        "        loss=keras.losses.CategoricalCrossentropy(),\n",
        "        # optimizer=tf.keras.optimizers.SGD(learning_rate=0.01, momentum=0.0, nesterov=False),\n",
        "        optimizer='adam',\n",
        "        metrics=[\"accuracy\"],\n",
        "    )\n",
        "\n",
        "    callbacks = [\n",
        "        tf.keras.callbacks.TensorBoard(log_dir='./logs'),\n",
        "        tf.keras.callbacks.EarlyStopping(monitor='loss', patience=3)\n",
        "    ]\n",
        "\n",
        "    model.fit(\n",
        "        X_train,\n",
        "        y_train,\n",
        "        batch_size=batch_size,\n",
        "        epochs=30,\n",
        "        verbose=verbose,\n",
        "        callbacks=callbacks,\n",
        "        validation_data=(X_val, y_val),\n",
        "    )\n",
        "\n",
        "    pred=model.predict(X_test) \n",
        "    pred_classes=np.argmax(pred, axis=1)\n",
        "\n",
        "    test_acc = accuracy_score(y_test, pred_classes)\n",
        "    print(\"\\n Test_acc =\", test_acc)\n",
        "\n",
        "    return model"
      ],
      "execution_count": null,
      "outputs": []
    },
    {
      "cell_type": "code",
      "source": [
        "model_3 = get_best_model()"
      ],
      "metadata": {
        "colab": {
          "base_uri": "https://localhost:8080/"
        },
        "id": "9ItlUauMkRLA",
        "outputId": "41408eaa-10d2-4d2a-e705-3678c26f4cdd"
      },
      "execution_count": null,
      "outputs": [
        {
          "output_type": "stream",
          "name": "stdout",
          "text": [
            "\n",
            " Test_acc = 0.6323\n"
          ]
        }
      ]
    },
    {
      "cell_type": "code",
      "source": [
        "model_4 = get_best_model(batch_size=2048, filters = [10, 16], kernel_size = [(5,5), (5,5)], hid_size=[32, 32], dropout=[0.1, 0,1], verbose=0)\n",
        "# Изменил кол-во нейтронов"
      ],
      "metadata": {
        "colab": {
          "base_uri": "https://localhost:8080/"
        },
        "id": "Rs7OJTAUkjck",
        "outputId": "787cdd02-5ade-4972-83e9-067ff1c65606"
      },
      "execution_count": null,
      "outputs": [
        {
          "output_type": "stream",
          "name": "stdout",
          "text": [
            "\n",
            " Test_acc = 0.6264\n"
          ]
        }
      ]
    },
    {
      "cell_type": "code",
      "source": [
        "model_5 = get_best_model(batch_size=4096, filters = [10, 16], kernel_size = [(5,5), (5,5)], hid_size=[100, 100], dropout=[0.1, 0,1], verbose=0)\n",
        "# bath_size = 4096"
      ],
      "metadata": {
        "colab": {
          "base_uri": "https://localhost:8080/"
        },
        "id": "e7TsVkkwlW3-",
        "outputId": "5dfc30cc-6dee-4139-a62f-ade7f5b28151"
      },
      "execution_count": null,
      "outputs": [
        {
          "output_type": "stream",
          "name": "stdout",
          "text": [
            "\n",
            " Test_acc = 0.5918\n"
          ]
        }
      ]
    },
    {
      "cell_type": "code",
      "source": [
        "model_6 = get_best_model(batch_size=2048, filters = [16, 32], kernel_size = [(5,5), (5,5)], hid_size=[100, 100], dropout=[0.1, 0,1], verbose=0)\n",
        "# Кол-во фильтров"
      ],
      "metadata": {
        "colab": {
          "base_uri": "https://localhost:8080/"
        },
        "id": "aZmtvVh-lts9",
        "outputId": "f6dc49cb-d45d-4cc7-a2e9-d227c3054f6e"
      },
      "execution_count": null,
      "outputs": [
        {
          "output_type": "stream",
          "name": "stdout",
          "text": [
            "\n",
            " Test_acc = 0.6556\n"
          ]
        }
      ]
    },
    {
      "cell_type": "code",
      "source": [
        "model_7 = get_best_model(batch_size=2048, filters = [16, 32], kernel_size = [(3,3), (3,3)], hid_size=[100, 100], dropout=[0.1, 0,1], verbose=0)\n",
        "# размеры матриц и кол-во фильтров"
      ],
      "metadata": {
        "colab": {
          "base_uri": "https://localhost:8080/"
        },
        "id": "iSRV1slYmKDC",
        "outputId": "68a73640-51c7-4bb1-ce52-b9062502d814"
      },
      "execution_count": null,
      "outputs": [
        {
          "output_type": "stream",
          "name": "stdout",
          "text": [
            "\n",
            " Test_acc = 0.6595\n"
          ]
        }
      ]
    },
    {
      "cell_type": "code",
      "source": [
        "model_8 = get_best_model(batch_size=4096, filters = [32, 64], kernel_size = [(5,5), (5,5)], hid_size=[256, 256], dropout=[0.3, 0,3], verbose=1)\n"
      ],
      "metadata": {
        "colab": {
          "base_uri": "https://localhost:8080/"
        },
        "id": "UTQG4krQn2I4",
        "outputId": "40606c92-eedb-4a01-9e18-7ff995ea2ed2"
      },
      "execution_count": null,
      "outputs": [
        {
          "output_type": "stream",
          "name": "stdout",
          "text": [
            "Epoch 1/30\n",
            "10/10 [==============================] - 12s 870ms/step - loss: 2.0757 - accuracy: 0.2640 - val_loss: 2.2078 - val_accuracy: 0.2212\n",
            "Epoch 2/30\n",
            "10/10 [==============================] - 3s 323ms/step - loss: 1.6063 - accuracy: 0.4182 - val_loss: 2.1753 - val_accuracy: 0.2490\n",
            "Epoch 3/30\n",
            "10/10 [==============================] - 3s 318ms/step - loss: 1.4040 - accuracy: 0.4932 - val_loss: 2.1651 - val_accuracy: 0.2901\n",
            "Epoch 4/30\n",
            "10/10 [==============================] - 3s 317ms/step - loss: 1.2797 - accuracy: 0.5411 - val_loss: 2.1456 - val_accuracy: 0.3478\n",
            "Epoch 5/30\n",
            "10/10 [==============================] - 3s 317ms/step - loss: 1.1684 - accuracy: 0.5803 - val_loss: 2.1202 - val_accuracy: 0.3897\n",
            "Epoch 6/30\n",
            "10/10 [==============================] - 3s 324ms/step - loss: 1.0744 - accuracy: 0.6191 - val_loss: 2.1058 - val_accuracy: 0.4969\n",
            "Epoch 7/30\n",
            "10/10 [==============================] - 3s 322ms/step - loss: 0.9952 - accuracy: 0.6473 - val_loss: 2.0814 - val_accuracy: 0.5601\n",
            "Epoch 8/30\n",
            "10/10 [==============================] - 3s 318ms/step - loss: 0.9157 - accuracy: 0.6768 - val_loss: 2.0385 - val_accuracy: 0.5938\n",
            "Epoch 9/30\n",
            "10/10 [==============================] - 3s 324ms/step - loss: 0.8433 - accuracy: 0.7037 - val_loss: 2.0062 - val_accuracy: 0.6046\n",
            "Epoch 10/30\n",
            "10/10 [==============================] - 3s 315ms/step - loss: 0.7815 - accuracy: 0.7240 - val_loss: 1.9551 - val_accuracy: 0.6505\n",
            "Epoch 11/30\n",
            "10/10 [==============================] - 3s 323ms/step - loss: 0.7225 - accuracy: 0.7477 - val_loss: 1.9258 - val_accuracy: 0.6427\n",
            "Epoch 12/30\n",
            "10/10 [==============================] - 3s 320ms/step - loss: 0.6673 - accuracy: 0.7660 - val_loss: 1.8820 - val_accuracy: 0.6479\n",
            "Epoch 13/30\n",
            "10/10 [==============================] - 3s 314ms/step - loss: 0.6100 - accuracy: 0.7886 - val_loss: 1.8314 - val_accuracy: 0.6296\n",
            "Epoch 14/30\n",
            "10/10 [==============================] - 3s 325ms/step - loss: 0.5582 - accuracy: 0.8059 - val_loss: 1.7843 - val_accuracy: 0.6505\n",
            "Epoch 15/30\n",
            "10/10 [==============================] - 3s 322ms/step - loss: 0.5130 - accuracy: 0.8227 - val_loss: 1.7565 - val_accuracy: 0.6552\n",
            "Epoch 16/30\n",
            "10/10 [==============================] - 3s 323ms/step - loss: 0.4627 - accuracy: 0.8422 - val_loss: 1.6874 - val_accuracy: 0.6547\n",
            "Epoch 17/30\n",
            "10/10 [==============================] - 3s 321ms/step - loss: 0.4148 - accuracy: 0.8597 - val_loss: 1.6481 - val_accuracy: 0.6640\n",
            "Epoch 18/30\n",
            "10/10 [==============================] - 3s 324ms/step - loss: 0.3774 - accuracy: 0.8716 - val_loss: 1.5968 - val_accuracy: 0.6679\n",
            "Epoch 19/30\n",
            "10/10 [==============================] - 3s 322ms/step - loss: 0.3412 - accuracy: 0.8851 - val_loss: 1.5317 - val_accuracy: 0.6624\n",
            "Epoch 20/30\n",
            "10/10 [==============================] - 3s 323ms/step - loss: 0.3064 - accuracy: 0.8980 - val_loss: 1.4657 - val_accuracy: 0.6806\n",
            "Epoch 21/30\n",
            "10/10 [==============================] - 3s 324ms/step - loss: 0.2740 - accuracy: 0.9083 - val_loss: 1.4375 - val_accuracy: 0.6617\n",
            "Epoch 22/30\n",
            "10/10 [==============================] - 3s 320ms/step - loss: 0.2460 - accuracy: 0.9188 - val_loss: 1.3744 - val_accuracy: 0.6910\n",
            "Epoch 23/30\n",
            "10/10 [==============================] - 3s 315ms/step - loss: 0.2229 - accuracy: 0.9271 - val_loss: 1.2883 - val_accuracy: 0.7070\n",
            "Epoch 24/30\n",
            "10/10 [==============================] - 3s 327ms/step - loss: 0.2055 - accuracy: 0.9334 - val_loss: 1.2539 - val_accuracy: 0.7004\n",
            "Epoch 25/30\n",
            "10/10 [==============================] - 3s 323ms/step - loss: 0.1827 - accuracy: 0.9408 - val_loss: 1.2369 - val_accuracy: 0.6878\n",
            "Epoch 26/30\n",
            "10/10 [==============================] - 3s 340ms/step - loss: 0.1624 - accuracy: 0.9495 - val_loss: 1.1936 - val_accuracy: 0.6959\n",
            "Epoch 27/30\n",
            "10/10 [==============================] - 3s 318ms/step - loss: 0.1454 - accuracy: 0.9534 - val_loss: 1.1366 - val_accuracy: 0.7047\n",
            "Epoch 28/30\n",
            "10/10 [==============================] - 3s 316ms/step - loss: 0.1378 - accuracy: 0.9569 - val_loss: 1.0843 - val_accuracy: 0.6963\n",
            "Epoch 29/30\n",
            "10/10 [==============================] - 3s 323ms/step - loss: 0.1240 - accuracy: 0.9604 - val_loss: 1.0869 - val_accuracy: 0.6936\n",
            "Epoch 30/30\n",
            "10/10 [==============================] - 3s 316ms/step - loss: 0.1155 - accuracy: 0.9624 - val_loss: 1.0272 - val_accuracy: 0.7042\n",
            "\n",
            " Test_acc = 0.6973\n"
          ]
        }
      ]
    },
    {
      "cell_type": "code",
      "source": [
        "model_9 = get_best_model(batch_size=4096, filters = [32, 64], kernel_size = [(5,5), (5,5)], hid_size=[256, 256], dropout=[0.4, 0,4], verbose=1)\n"
      ],
      "metadata": {
        "colab": {
          "base_uri": "https://localhost:8080/"
        },
        "id": "FG5sarVbt7sy",
        "outputId": "cebb42bb-a1d3-4d4e-c0f0-be267612572f"
      },
      "execution_count": null,
      "outputs": [
        {
          "output_type": "stream",
          "name": "stdout",
          "text": [
            "Epoch 1/30\n",
            "10/10 [==============================] - 4s 359ms/step - loss: 2.0790 - accuracy: 0.2643 - val_loss: 2.2247 - val_accuracy: 0.2241\n",
            "Epoch 2/30\n",
            "10/10 [==============================] - 3s 320ms/step - loss: 1.6090 - accuracy: 0.4195 - val_loss: 2.2094 - val_accuracy: 0.3319\n",
            "Epoch 3/30\n",
            "10/10 [==============================] - 3s 318ms/step - loss: 1.4069 - accuracy: 0.4913 - val_loss: 2.1851 - val_accuracy: 0.3708\n",
            "Epoch 4/30\n",
            "10/10 [==============================] - 3s 324ms/step - loss: 1.2549 - accuracy: 0.5501 - val_loss: 2.1733 - val_accuracy: 0.4379\n",
            "Epoch 5/30\n",
            "10/10 [==============================] - 3s 323ms/step - loss: 1.1357 - accuracy: 0.5923 - val_loss: 2.1423 - val_accuracy: 0.5018\n",
            "Epoch 6/30\n",
            "10/10 [==============================] - 3s 316ms/step - loss: 1.0348 - accuracy: 0.6328 - val_loss: 2.1299 - val_accuracy: 0.5575\n",
            "Epoch 7/30\n",
            "10/10 [==============================] - 3s 323ms/step - loss: 0.9478 - accuracy: 0.6640 - val_loss: 2.0827 - val_accuracy: 0.5480\n",
            "Epoch 8/30\n",
            "10/10 [==============================] - 3s 324ms/step - loss: 0.8734 - accuracy: 0.6913 - val_loss: 2.0694 - val_accuracy: 0.5975\n",
            "Epoch 9/30\n",
            "10/10 [==============================] - 3s 323ms/step - loss: 0.8088 - accuracy: 0.7133 - val_loss: 2.0590 - val_accuracy: 0.6127\n",
            "Epoch 10/30\n",
            "10/10 [==============================] - 3s 316ms/step - loss: 0.7414 - accuracy: 0.7383 - val_loss: 2.0032 - val_accuracy: 0.6467\n",
            "Epoch 11/30\n",
            "10/10 [==============================] - 3s 326ms/step - loss: 0.6810 - accuracy: 0.7604 - val_loss: 1.9471 - val_accuracy: 0.6365\n",
            "Epoch 12/30\n",
            "10/10 [==============================] - 3s 323ms/step - loss: 0.6290 - accuracy: 0.7786 - val_loss: 1.9406 - val_accuracy: 0.6554\n",
            "Epoch 13/30\n",
            "10/10 [==============================] - 3s 324ms/step - loss: 0.5774 - accuracy: 0.7975 - val_loss: 1.9083 - val_accuracy: 0.6586\n",
            "Epoch 14/30\n",
            "10/10 [==============================] - 3s 323ms/step - loss: 0.5272 - accuracy: 0.8150 - val_loss: 1.8346 - val_accuracy: 0.6466\n",
            "Epoch 15/30\n",
            "10/10 [==============================] - 3s 323ms/step - loss: 0.4754 - accuracy: 0.8331 - val_loss: 1.8226 - val_accuracy: 0.6750\n",
            "Epoch 16/30\n",
            "10/10 [==============================] - 3s 323ms/step - loss: 0.4372 - accuracy: 0.8485 - val_loss: 1.7598 - val_accuracy: 0.6892\n",
            "Epoch 17/30\n",
            "10/10 [==============================] - 3s 317ms/step - loss: 0.3924 - accuracy: 0.8628 - val_loss: 1.7065 - val_accuracy: 0.6842\n",
            "Epoch 18/30\n",
            "10/10 [==============================] - 3s 319ms/step - loss: 0.3614 - accuracy: 0.8765 - val_loss: 1.6432 - val_accuracy: 0.6856\n",
            "Epoch 19/30\n",
            "10/10 [==============================] - 3s 316ms/step - loss: 0.3250 - accuracy: 0.8875 - val_loss: 1.6029 - val_accuracy: 0.6778\n",
            "Epoch 20/30\n",
            "10/10 [==============================] - 3s 323ms/step - loss: 0.2954 - accuracy: 0.8970 - val_loss: 1.5535 - val_accuracy: 0.6806\n",
            "Epoch 21/30\n",
            "10/10 [==============================] - 3s 324ms/step - loss: 0.2620 - accuracy: 0.9103 - val_loss: 1.4778 - val_accuracy: 0.6905\n",
            "Epoch 22/30\n",
            "10/10 [==============================] - 3s 318ms/step - loss: 0.2442 - accuracy: 0.9159 - val_loss: 1.4578 - val_accuracy: 0.6940\n",
            "Epoch 23/30\n",
            "10/10 [==============================] - 3s 322ms/step - loss: 0.2256 - accuracy: 0.9233 - val_loss: 1.4248 - val_accuracy: 0.7008\n",
            "Epoch 24/30\n",
            "10/10 [==============================] - 3s 321ms/step - loss: 0.1994 - accuracy: 0.9324 - val_loss: 1.3431 - val_accuracy: 0.7119\n",
            "Epoch 25/30\n",
            "10/10 [==============================] - 3s 323ms/step - loss: 0.1793 - accuracy: 0.9399 - val_loss: 1.3077 - val_accuracy: 0.6909\n",
            "Epoch 26/30\n",
            "10/10 [==============================] - 3s 324ms/step - loss: 0.1660 - accuracy: 0.9448 - val_loss: 1.2515 - val_accuracy: 0.7018\n",
            "Epoch 27/30\n",
            "10/10 [==============================] - 3s 316ms/step - loss: 0.1522 - accuracy: 0.9496 - val_loss: 1.2551 - val_accuracy: 0.6689\n",
            "Epoch 28/30\n",
            "10/10 [==============================] - 3s 317ms/step - loss: 0.1444 - accuracy: 0.9512 - val_loss: 1.1724 - val_accuracy: 0.7017\n",
            "Epoch 29/30\n",
            "10/10 [==============================] - 3s 324ms/step - loss: 0.1286 - accuracy: 0.9578 - val_loss: 1.1348 - val_accuracy: 0.6957\n",
            "Epoch 30/30\n",
            "10/10 [==============================] - 3s 324ms/step - loss: 0.1230 - accuracy: 0.9587 - val_loss: 1.0719 - val_accuracy: 0.7039\n",
            "\n",
            " Test_acc = 0.7028\n"
          ]
        }
      ]
    },
    {
      "cell_type": "code",
      "source": [
        "model_10 = get_best_model(batch_size=4096, filters = [64, 128], kernel_size = [(5,5), (5,5)], hid_size=[256, 256], dropout=[0.4, 0,4], verbose=1)"
      ],
      "metadata": {
        "colab": {
          "base_uri": "https://localhost:8080/"
        },
        "id": "o_n-0KgcyCfe",
        "outputId": "e6d1d1db-3550-43c9-d2ed-6b1ce27db193"
      },
      "execution_count": null,
      "outputs": [
        {
          "output_type": "stream",
          "name": "stdout",
          "text": [
            "Epoch 1/30\n",
            "10/10 [==============================] - 7s 662ms/step - loss: 2.0850 - accuracy: 0.2589 - val_loss: 2.2327 - val_accuracy: 0.2479\n",
            "Epoch 2/30\n",
            "10/10 [==============================] - 6s 640ms/step - loss: 1.5983 - accuracy: 0.4222 - val_loss: 2.2200 - val_accuracy: 0.2642\n",
            "Epoch 3/30\n",
            "10/10 [==============================] - 6s 646ms/step - loss: 1.3938 - accuracy: 0.4976 - val_loss: 2.1868 - val_accuracy: 0.2950\n",
            "Epoch 4/30\n",
            "10/10 [==============================] - 6s 624ms/step - loss: 1.2425 - accuracy: 0.5538 - val_loss: 2.1706 - val_accuracy: 0.3828\n",
            "Epoch 5/30\n",
            "10/10 [==============================] - 6s 641ms/step - loss: 1.1209 - accuracy: 0.5998 - val_loss: 2.1575 - val_accuracy: 0.4569\n",
            "Epoch 6/30\n",
            "10/10 [==============================] - 6s 623ms/step - loss: 1.0300 - accuracy: 0.6319 - val_loss: 2.1333 - val_accuracy: 0.5245\n",
            "Epoch 7/30\n",
            "10/10 [==============================] - 6s 625ms/step - loss: 0.9337 - accuracy: 0.6681 - val_loss: 2.1066 - val_accuracy: 0.5135\n",
            "Epoch 8/30\n",
            "10/10 [==============================] - 6s 622ms/step - loss: 0.8627 - accuracy: 0.6926 - val_loss: 2.0861 - val_accuracy: 0.6020\n",
            "Epoch 9/30\n",
            "10/10 [==============================] - 6s 642ms/step - loss: 0.7926 - accuracy: 0.7204 - val_loss: 2.0582 - val_accuracy: 0.6401\n",
            "Epoch 10/30\n",
            "10/10 [==============================] - 6s 640ms/step - loss: 0.7339 - accuracy: 0.7412 - val_loss: 2.0003 - val_accuracy: 0.6687\n",
            "Epoch 11/30\n",
            "10/10 [==============================] - 6s 624ms/step - loss: 0.6723 - accuracy: 0.7633 - val_loss: 1.9725 - val_accuracy: 0.6733\n",
            "Epoch 12/30\n",
            "10/10 [==============================] - 6s 638ms/step - loss: 0.6094 - accuracy: 0.7861 - val_loss: 1.9414 - val_accuracy: 0.6064\n",
            "Epoch 13/30\n",
            "10/10 [==============================] - 6s 620ms/step - loss: 0.5504 - accuracy: 0.8078 - val_loss: 1.8837 - val_accuracy: 0.6032\n",
            "Epoch 14/30\n",
            "10/10 [==============================] - 6s 621ms/step - loss: 0.5065 - accuracy: 0.8228 - val_loss: 1.8372 - val_accuracy: 0.6855\n",
            "Epoch 15/30\n",
            "10/10 [==============================] - 6s 621ms/step - loss: 0.4493 - accuracy: 0.8452 - val_loss: 1.7940 - val_accuracy: 0.6954\n",
            "Epoch 16/30\n",
            "10/10 [==============================] - 6s 621ms/step - loss: 0.4007 - accuracy: 0.8619 - val_loss: 1.7286 - val_accuracy: 0.6642\n",
            "Epoch 17/30\n",
            "10/10 [==============================] - 6s 621ms/step - loss: 0.3623 - accuracy: 0.8754 - val_loss: 1.6943 - val_accuracy: 0.7112\n",
            "Epoch 18/30\n",
            "10/10 [==============================] - 6s 620ms/step - loss: 0.3239 - accuracy: 0.8890 - val_loss: 1.6598 - val_accuracy: 0.6849\n",
            "Epoch 19/30\n",
            "10/10 [==============================] - 6s 621ms/step - loss: 0.2906 - accuracy: 0.9006 - val_loss: 1.5665 - val_accuracy: 0.6747\n",
            "Epoch 20/30\n",
            "10/10 [==============================] - 6s 640ms/step - loss: 0.2600 - accuracy: 0.9127 - val_loss: 1.5212 - val_accuracy: 0.6633\n",
            "Epoch 21/30\n",
            "10/10 [==============================] - 6s 622ms/step - loss: 0.2293 - accuracy: 0.9228 - val_loss: 1.4884 - val_accuracy: 0.6879\n",
            "Epoch 22/30\n",
            "10/10 [==============================] - 6s 637ms/step - loss: 0.2020 - accuracy: 0.9324 - val_loss: 1.3800 - val_accuracy: 0.7017\n",
            "Epoch 23/30\n",
            "10/10 [==============================] - 6s 638ms/step - loss: 0.1819 - accuracy: 0.9394 - val_loss: 1.3187 - val_accuracy: 0.7172\n",
            "Epoch 24/30\n",
            "10/10 [==============================] - 6s 640ms/step - loss: 0.1615 - accuracy: 0.9453 - val_loss: 1.3124 - val_accuracy: 0.6997\n",
            "Epoch 25/30\n",
            "10/10 [==============================] - 6s 641ms/step - loss: 0.1465 - accuracy: 0.9499 - val_loss: 1.2090 - val_accuracy: 0.7275\n",
            "Epoch 26/30\n",
            "10/10 [==============================] - 6s 638ms/step - loss: 0.1332 - accuracy: 0.9560 - val_loss: 1.1651 - val_accuracy: 0.7190\n",
            "Epoch 27/30\n",
            "10/10 [==============================] - 6s 619ms/step - loss: 0.1181 - accuracy: 0.9624 - val_loss: 1.1337 - val_accuracy: 0.6996\n",
            "Epoch 28/30\n",
            "10/10 [==============================] - 6s 638ms/step - loss: 0.1103 - accuracy: 0.9633 - val_loss: 1.1065 - val_accuracy: 0.7175\n",
            "Epoch 29/30\n",
            "10/10 [==============================] - 6s 637ms/step - loss: 0.1003 - accuracy: 0.9676 - val_loss: 1.0460 - val_accuracy: 0.7047\n",
            "Epoch 30/30\n",
            "10/10 [==============================] - 6s 620ms/step - loss: 0.0946 - accuracy: 0.9702 - val_loss: 1.0068 - val_accuracy: 0.7315\n",
            "\n",
            " Test_acc = 0.7215\n"
          ]
        }
      ]
    },
    {
      "cell_type": "code",
      "source": [
        "model_11 = get_best_model(batch_size=4096, filters = [64, 128], kernel_size = [(5,5), (5,5)], hid_size=[256, 256], dropout=[0.5, 0,5], verbose=1)\n"
      ],
      "metadata": {
        "colab": {
          "base_uri": "https://localhost:8080/"
        },
        "id": "J4dliD_41Lmw",
        "outputId": "7d117faa-06ca-4384-c6d4-ab4a6d15e2a4"
      },
      "execution_count": null,
      "outputs": [
        {
          "output_type": "stream",
          "name": "stdout",
          "text": [
            "Epoch 1/30\n",
            "10/10 [==============================] - 7s 682ms/step - loss: 2.2559 - accuracy: 0.2255 - val_loss: 2.2433 - val_accuracy: 0.2490\n",
            "Epoch 2/30\n",
            "10/10 [==============================] - 6s 646ms/step - loss: 1.7094 - accuracy: 0.3832 - val_loss: 2.2218 - val_accuracy: 0.2895\n",
            "Epoch 3/30\n",
            "10/10 [==============================] - 6s 646ms/step - loss: 1.5049 - accuracy: 0.4565 - val_loss: 2.2001 - val_accuracy: 0.3086\n",
            "Epoch 4/30\n",
            "10/10 [==============================] - 6s 645ms/step - loss: 1.3592 - accuracy: 0.5101 - val_loss: 2.1810 - val_accuracy: 0.3709\n",
            "Epoch 5/30\n",
            "10/10 [==============================] - 6s 625ms/step - loss: 1.2528 - accuracy: 0.5494 - val_loss: 2.1544 - val_accuracy: 0.3990\n",
            "Epoch 6/30\n",
            "10/10 [==============================] - 6s 646ms/step - loss: 1.1503 - accuracy: 0.5847 - val_loss: 2.1423 - val_accuracy: 0.4386\n",
            "Epoch 7/30\n",
            "10/10 [==============================] - 6s 625ms/step - loss: 1.0642 - accuracy: 0.6177 - val_loss: 2.0946 - val_accuracy: 0.4959\n",
            "Epoch 8/30\n",
            "10/10 [==============================] - 6s 624ms/step - loss: 0.9922 - accuracy: 0.6461 - val_loss: 2.0776 - val_accuracy: 0.4997\n",
            "Epoch 9/30\n",
            "10/10 [==============================] - 6s 646ms/step - loss: 0.9177 - accuracy: 0.6733 - val_loss: 2.0588 - val_accuracy: 0.5586\n",
            "Epoch 10/30\n",
            "10/10 [==============================] - 6s 626ms/step - loss: 0.8489 - accuracy: 0.7013 - val_loss: 1.9837 - val_accuracy: 0.5948\n",
            "Epoch 11/30\n",
            "10/10 [==============================] - 6s 623ms/step - loss: 0.7964 - accuracy: 0.7169 - val_loss: 1.9769 - val_accuracy: 0.6142\n",
            "Epoch 12/30\n",
            "10/10 [==============================] - 6s 645ms/step - loss: 0.7426 - accuracy: 0.7406 - val_loss: 1.9450 - val_accuracy: 0.6264\n",
            "Epoch 13/30\n",
            "10/10 [==============================] - 6s 645ms/step - loss: 0.6934 - accuracy: 0.7567 - val_loss: 1.9066 - val_accuracy: 0.5744\n",
            "Epoch 14/30\n",
            "10/10 [==============================] - 6s 627ms/step - loss: 0.6384 - accuracy: 0.7748 - val_loss: 1.8893 - val_accuracy: 0.6318\n",
            "Epoch 15/30\n",
            "10/10 [==============================] - 6s 645ms/step - loss: 0.5889 - accuracy: 0.7938 - val_loss: 1.8264 - val_accuracy: 0.6626\n",
            "Epoch 16/30\n",
            "10/10 [==============================] - 6s 628ms/step - loss: 0.5403 - accuracy: 0.8097 - val_loss: 1.7861 - val_accuracy: 0.6516\n",
            "Epoch 17/30\n",
            "10/10 [==============================] - 6s 646ms/step - loss: 0.4932 - accuracy: 0.8273 - val_loss: 1.7191 - val_accuracy: 0.6462\n",
            "Epoch 18/30\n",
            "10/10 [==============================] - 6s 641ms/step - loss: 0.4514 - accuracy: 0.8432 - val_loss: 1.6672 - val_accuracy: 0.6835\n",
            "Epoch 19/30\n",
            "10/10 [==============================] - 6s 643ms/step - loss: 0.4198 - accuracy: 0.8539 - val_loss: 1.6136 - val_accuracy: 0.7017\n",
            "Epoch 20/30\n",
            "10/10 [==============================] - 6s 625ms/step - loss: 0.3835 - accuracy: 0.8666 - val_loss: 1.5625 - val_accuracy: 0.6967\n",
            "Epoch 21/30\n",
            "10/10 [==============================] - 6s 644ms/step - loss: 0.3553 - accuracy: 0.8752 - val_loss: 1.5484 - val_accuracy: 0.6949\n",
            "Epoch 22/30\n",
            "10/10 [==============================] - 6s 644ms/step - loss: 0.3260 - accuracy: 0.8879 - val_loss: 1.4753 - val_accuracy: 0.7198\n",
            "Epoch 23/30\n",
            "10/10 [==============================] - 6s 649ms/step - loss: 0.2951 - accuracy: 0.8965 - val_loss: 1.4016 - val_accuracy: 0.7346\n",
            "Epoch 24/30\n",
            "10/10 [==============================] - 6s 623ms/step - loss: 0.2741 - accuracy: 0.9057 - val_loss: 1.3589 - val_accuracy: 0.6949\n",
            "Epoch 25/30\n",
            "10/10 [==============================] - 6s 623ms/step - loss: 0.2426 - accuracy: 0.9166 - val_loss: 1.3118 - val_accuracy: 0.7028\n",
            "Epoch 26/30\n",
            "10/10 [==============================] - 6s 643ms/step - loss: 0.2163 - accuracy: 0.9253 - val_loss: 1.2609 - val_accuracy: 0.7227\n",
            "Epoch 27/30\n",
            "10/10 [==============================] - 6s 625ms/step - loss: 0.2026 - accuracy: 0.9299 - val_loss: 1.2009 - val_accuracy: 0.7144\n",
            "Epoch 28/30\n",
            "10/10 [==============================] - 6s 642ms/step - loss: 0.1879 - accuracy: 0.9365 - val_loss: 1.1701 - val_accuracy: 0.6984\n",
            "Epoch 29/30\n",
            " 3/10 [========>.....................] - ETA: 4s - loss: 0.1706 - accuracy: 0.9414"
          ]
        }
      ]
    },
    {
      "cell_type": "code",
      "source": [
        ""
      ],
      "metadata": {
        "id": "1LcUCetG960D"
      },
      "execution_count": null,
      "outputs": []
    },
    {
      "cell_type": "markdown",
      "source": [
        "Попробуем поперебирать гиперпараметры с помощью KerasTuner"
      ],
      "metadata": {
        "id": "8pmlHdUi972F"
      }
    },
    {
      "cell_type": "code",
      "source": [
        "pip install -U keras-tuner"
      ],
      "metadata": {
        "colab": {
          "base_uri": "https://localhost:8080/"
        },
        "id": "LM42EzNJ-Btz",
        "outputId": "b2456c45-b9ff-45b2-dcee-63569f04dfb6"
      },
      "execution_count": null,
      "outputs": [
        {
          "output_type": "stream",
          "name": "stdout",
          "text": [
            "Collecting keras-tuner\n",
            "  Downloading keras_tuner-1.1.0-py3-none-any.whl (98 kB)\n",
            "\u001b[?25l\r\u001b[K     |███▍                            | 10 kB 19.3 MB/s eta 0:00:01\r\u001b[K     |██████▊                         | 20 kB 23.6 MB/s eta 0:00:01\r\u001b[K     |██████████                      | 30 kB 26.9 MB/s eta 0:00:01\r\u001b[K     |█████████████▍                  | 40 kB 14.0 MB/s eta 0:00:01\r\u001b[K     |████████████████▊               | 51 kB 12.5 MB/s eta 0:00:01\r\u001b[K     |████████████████████            | 61 kB 14.3 MB/s eta 0:00:01\r\u001b[K     |███████████████████████▍        | 71 kB 11.8 MB/s eta 0:00:01\r\u001b[K     |██████████████████████████▊     | 81 kB 12.9 MB/s eta 0:00:01\r\u001b[K     |██████████████████████████████  | 92 kB 14.1 MB/s eta 0:00:01\r\u001b[K     |████████████████████████████████| 98 kB 3.9 MB/s \n",
            "\u001b[?25hRequirement already satisfied: numpy in /usr/local/lib/python3.7/dist-packages (from keras-tuner) (1.21.5)\n",
            "Requirement already satisfied: scipy in /usr/local/lib/python3.7/dist-packages (from keras-tuner) (1.4.1)\n",
            "Requirement already satisfied: ipython in /usr/local/lib/python3.7/dist-packages (from keras-tuner) (5.5.0)\n",
            "Requirement already satisfied: tensorboard in /usr/local/lib/python3.7/dist-packages (from keras-tuner) (2.8.0)\n",
            "Collecting kt-legacy\n",
            "  Downloading kt_legacy-1.0.4-py3-none-any.whl (9.6 kB)\n",
            "Requirement already satisfied: requests in /usr/local/lib/python3.7/dist-packages (from keras-tuner) (2.23.0)\n",
            "Requirement already satisfied: packaging in /usr/local/lib/python3.7/dist-packages (from keras-tuner) (21.3)\n",
            "Requirement already satisfied: setuptools>=18.5 in /usr/local/lib/python3.7/dist-packages (from ipython->keras-tuner) (57.4.0)\n",
            "Requirement already satisfied: decorator in /usr/local/lib/python3.7/dist-packages (from ipython->keras-tuner) (4.4.2)\n",
            "Requirement already satisfied: pexpect in /usr/local/lib/python3.7/dist-packages (from ipython->keras-tuner) (4.8.0)\n",
            "Requirement already satisfied: prompt-toolkit<2.0.0,>=1.0.4 in /usr/local/lib/python3.7/dist-packages (from ipython->keras-tuner) (1.0.18)\n",
            "Requirement already satisfied: pygments in /usr/local/lib/python3.7/dist-packages (from ipython->keras-tuner) (2.6.1)\n",
            "Requirement already satisfied: simplegeneric>0.8 in /usr/local/lib/python3.7/dist-packages (from ipython->keras-tuner) (0.8.1)\n",
            "Requirement already satisfied: traitlets>=4.2 in /usr/local/lib/python3.7/dist-packages (from ipython->keras-tuner) (5.1.1)\n",
            "Requirement already satisfied: pickleshare in /usr/local/lib/python3.7/dist-packages (from ipython->keras-tuner) (0.7.5)\n",
            "Requirement already satisfied: wcwidth in /usr/local/lib/python3.7/dist-packages (from prompt-toolkit<2.0.0,>=1.0.4->ipython->keras-tuner) (0.2.5)\n",
            "Requirement already satisfied: six>=1.9.0 in /usr/local/lib/python3.7/dist-packages (from prompt-toolkit<2.0.0,>=1.0.4->ipython->keras-tuner) (1.15.0)\n",
            "Requirement already satisfied: pyparsing!=3.0.5,>=2.0.2 in /usr/local/lib/python3.7/dist-packages (from packaging->keras-tuner) (3.0.7)\n",
            "Requirement already satisfied: ptyprocess>=0.5 in /usr/local/lib/python3.7/dist-packages (from pexpect->ipython->keras-tuner) (0.7.0)\n",
            "Requirement already satisfied: chardet<4,>=3.0.2 in /usr/local/lib/python3.7/dist-packages (from requests->keras-tuner) (3.0.4)\n",
            "Requirement already satisfied: idna<3,>=2.5 in /usr/local/lib/python3.7/dist-packages (from requests->keras-tuner) (2.10)\n",
            "Requirement already satisfied: urllib3!=1.25.0,!=1.25.1,<1.26,>=1.21.1 in /usr/local/lib/python3.7/dist-packages (from requests->keras-tuner) (1.24.3)\n",
            "Requirement already satisfied: certifi>=2017.4.17 in /usr/local/lib/python3.7/dist-packages (from requests->keras-tuner) (2021.10.8)\n",
            "Requirement already satisfied: werkzeug>=0.11.15 in /usr/local/lib/python3.7/dist-packages (from tensorboard->keras-tuner) (1.0.1)\n",
            "Requirement already satisfied: tensorboard-data-server<0.7.0,>=0.6.0 in /usr/local/lib/python3.7/dist-packages (from tensorboard->keras-tuner) (0.6.1)\n",
            "Requirement already satisfied: wheel>=0.26 in /usr/local/lib/python3.7/dist-packages (from tensorboard->keras-tuner) (0.37.1)\n",
            "Requirement already satisfied: grpcio>=1.24.3 in /usr/local/lib/python3.7/dist-packages (from tensorboard->keras-tuner) (1.44.0)\n",
            "Requirement already satisfied: google-auth-oauthlib<0.5,>=0.4.1 in /usr/local/lib/python3.7/dist-packages (from tensorboard->keras-tuner) (0.4.6)\n",
            "Requirement already satisfied: protobuf>=3.6.0 in /usr/local/lib/python3.7/dist-packages (from tensorboard->keras-tuner) (3.17.3)\n",
            "Requirement already satisfied: tensorboard-plugin-wit>=1.6.0 in /usr/local/lib/python3.7/dist-packages (from tensorboard->keras-tuner) (1.8.1)\n",
            "Requirement already satisfied: google-auth<3,>=1.6.3 in /usr/local/lib/python3.7/dist-packages (from tensorboard->keras-tuner) (1.35.0)\n",
            "Requirement already satisfied: absl-py>=0.4 in /usr/local/lib/python3.7/dist-packages (from tensorboard->keras-tuner) (1.0.0)\n",
            "Requirement already satisfied: markdown>=2.6.8 in /usr/local/lib/python3.7/dist-packages (from tensorboard->keras-tuner) (3.3.6)\n",
            "Requirement already satisfied: pyasn1-modules>=0.2.1 in /usr/local/lib/python3.7/dist-packages (from google-auth<3,>=1.6.3->tensorboard->keras-tuner) (0.2.8)\n",
            "Requirement already satisfied: cachetools<5.0,>=2.0.0 in /usr/local/lib/python3.7/dist-packages (from google-auth<3,>=1.6.3->tensorboard->keras-tuner) (4.2.4)\n",
            "Requirement already satisfied: rsa<5,>=3.1.4 in /usr/local/lib/python3.7/dist-packages (from google-auth<3,>=1.6.3->tensorboard->keras-tuner) (4.8)\n",
            "Requirement already satisfied: requests-oauthlib>=0.7.0 in /usr/local/lib/python3.7/dist-packages (from google-auth-oauthlib<0.5,>=0.4.1->tensorboard->keras-tuner) (1.3.1)\n",
            "Requirement already satisfied: importlib-metadata>=4.4 in /usr/local/lib/python3.7/dist-packages (from markdown>=2.6.8->tensorboard->keras-tuner) (4.11.2)\n",
            "Requirement already satisfied: typing-extensions>=3.6.4 in /usr/local/lib/python3.7/dist-packages (from importlib-metadata>=4.4->markdown>=2.6.8->tensorboard->keras-tuner) (3.10.0.2)\n",
            "Requirement already satisfied: zipp>=0.5 in /usr/local/lib/python3.7/dist-packages (from importlib-metadata>=4.4->markdown>=2.6.8->tensorboard->keras-tuner) (3.7.0)\n",
            "Requirement already satisfied: pyasn1<0.5.0,>=0.4.6 in /usr/local/lib/python3.7/dist-packages (from pyasn1-modules>=0.2.1->google-auth<3,>=1.6.3->tensorboard->keras-tuner) (0.4.8)\n",
            "Requirement already satisfied: oauthlib>=3.0.0 in /usr/local/lib/python3.7/dist-packages (from requests-oauthlib>=0.7.0->google-auth-oauthlib<0.5,>=0.4.1->tensorboard->keras-tuner) (3.2.0)\n",
            "Installing collected packages: kt-legacy, keras-tuner\n",
            "Successfully installed keras-tuner-1.1.0 kt-legacy-1.0.4\n"
          ]
        }
      ]
    },
    {
      "cell_type": "code",
      "source": [
        ""
      ],
      "metadata": {
        "id": "kYIt3-AiSDTa"
      },
      "execution_count": null,
      "outputs": []
    },
    {
      "cell_type": "markdown",
      "source": [
        "Подберем гиперпараметры с помощью RandomSearch"
      ],
      "metadata": {
        "id": "2YHPGLhgSEEC"
      }
    },
    {
      "cell_type": "code",
      "source": [
        "from kerastuner.tuners import RandomSearch, BayesianOptimization\n",
        "from tensorflow.keras.models import Sequential\n",
        "from tensorflow.keras.layers import Dense\n",
        "from tensorflow.keras.layers import Conv2D\n",
        "from tensorflow.keras.layers import MaxPool2D\n",
        "\n",
        "from tensorflow.keras.layers import Flatten\n",
        "from tensorflow.keras.layers import Dropout\n",
        "from tensorflow.keras.layers import BatchNormalization\n",
        "from tensorflow.keras.losses import CategoricalCrossentropy\n",
        "\n",
        "\n"
      ],
      "metadata": {
        "id": "MFoMb1id-fyp"
      },
      "execution_count": null,
      "outputs": []
    },
    {
      "cell_type": "code",
      "source": [
        "def build_model(hp):\n",
        "    model = Sequential()\n",
        "\n",
        "    activation_choice = hp.Choice('activation', values=['relu', 'sigmoid', 'tanh', 'elu', 'selu'])\n",
        "\n",
        "    model.add(Conv2D(\n",
        "                filters = hp.Int('filters_1', min_value=8, max_value=64, step=4),\n",
        "                kernel_size = (5,5),\n",
        "                padding = 'same',\n",
        "                activation = activation_choice,\n",
        "                input_shape = X_train.shape[1:]))\n",
        "    model.add(MaxPool2D(\n",
        "                pool_size = (2,2),\n",
        "                padding = 'valid'))\n",
        "    \n",
        "    model.add(Conv2D(\n",
        "                filters = hp.Int('filters_2', min_value=8, max_value=64, step=4),\n",
        "                kernel_size = (5,5),\n",
        "                padding = 'same',\n",
        "                activation = activation_choice))\n",
        "    model.add(MaxPool2D(\n",
        "                pool_size = (2,2),\n",
        "                padding = 'valid'))\n",
        "\n",
        "    model.add(BatchNormalization())\n",
        "    model.add(Flatten())\n",
        "\n",
        "    model.add(Dense(units=hp.Int('dense_1', min_value=64, max_value=1024, step=64), \n",
        "                                 activation=activation_choice))\n",
        "    model.add(Dropout(hp.Float('dropout_1', min_value=0.1, max_value=0.7, step=0.1)))\n",
        "\n",
        "    model.add(Dense(units=hp.Int('dense_2', min_value=64, max_value=1024, step=64), \n",
        "                                 activation=activation_choice))\n",
        "    model.add(Dropout(hp.Float('dropout_2', min_value=0.1, max_value=0.7, step=0.1)))\n",
        "\n",
        "    model.add(Dense(10, activation='softmax'))\n",
        "\n",
        "    model.compile(\n",
        "        loss=CategoricalCrossentropy(),\n",
        "        # optimizer=tf.keras.optimizers.SGD(learning_rate=0.01, momentum=0.0, nesterov=False),\n",
        "        optimizer=hp.Choice('optimizer', values=['adam','rmsprop','SGD']),\n",
        "        metrics=[\"accuracy\"],\n",
        "    )\n",
        "\n",
        "    callbacks = [\n",
        "        tf.keras.callbacks.TensorBoard(log_dir='./logs'),\n",
        "        tf.keras.callbacks.EarlyStopping(monitor='loss', patience=3)\n",
        "    ]\n",
        "\n",
        "    return model"
      ],
      "metadata": {
        "id": "naum7MAf-bc6"
      },
      "execution_count": null,
      "outputs": []
    },
    {
      "cell_type": "code",
      "source": [
        "tuner = RandomSearch(\n",
        "    build_model,                \n",
        "    objective='val_accuracy',    \n",
        "                                 \n",
        "    max_trials=10,              \n",
        "    directory='test_directory'  \n",
        "    )"
      ],
      "metadata": {
        "colab": {
          "base_uri": "https://localhost:8080/"
        },
        "id": "2H4xPwiWCPPU",
        "outputId": "de5c8e9e-57f8-4303-b800-6f6fe181cfd8"
      },
      "execution_count": null,
      "outputs": [
        {
          "output_type": "stream",
          "name": "stdout",
          "text": [
            "INFO:tensorflow:Reloading Oracle from existing project test_directory/untitled_project/oracle.json\n",
            "INFO:tensorflow:Reloading Tuner from test_directory/untitled_project/tuner0.json\n"
          ]
        }
      ]
    },
    {
      "cell_type": "code",
      "source": [
        "tuner.search_space_summary()"
      ],
      "metadata": {
        "colab": {
          "base_uri": "https://localhost:8080/"
        },
        "id": "mgKCKOSBFtmv",
        "outputId": "ea0a2226-e663-4403-8ee7-08debd1bdb8f"
      },
      "execution_count": null,
      "outputs": [
        {
          "output_type": "stream",
          "name": "stdout",
          "text": [
            "Search space summary\n",
            "Default search space size: 8\n",
            "activation (Choice)\n",
            "{'default': 'relu', 'conditions': [], 'values': ['relu', 'sigmoid', 'tanh', 'elu', 'selu'], 'ordered': False}\n",
            "filters_1 (Int)\n",
            "{'default': None, 'conditions': [], 'min_value': 8, 'max_value': 64, 'step': 4, 'sampling': None}\n",
            "filters_2 (Int)\n",
            "{'default': None, 'conditions': [], 'min_value': 8, 'max_value': 64, 'step': 4, 'sampling': None}\n",
            "dense_1 (Int)\n",
            "{'default': None, 'conditions': [], 'min_value': 64, 'max_value': 1024, 'step': 64, 'sampling': None}\n",
            "dropout_1 (Float)\n",
            "{'default': 0.1, 'conditions': [], 'min_value': 0.1, 'max_value': 0.7, 'step': 0.1, 'sampling': None}\n",
            "dense_2 (Int)\n",
            "{'default': None, 'conditions': [], 'min_value': 64, 'max_value': 1024, 'step': 64, 'sampling': None}\n",
            "dropout_2 (Float)\n",
            "{'default': 0.1, 'conditions': [], 'min_value': 0.1, 'max_value': 0.7, 'step': 0.1, 'sampling': None}\n",
            "optimizer (Choice)\n",
            "{'default': 'adam', 'conditions': [], 'values': ['adam', 'rmsprop', 'SGD'], 'ordered': False}\n"
          ]
        }
      ]
    },
    {
      "cell_type": "code",
      "source": [
        "tuner.search(X_train,                \n",
        "             y_train,                 \n",
        "             batch_size=2048,          \n",
        "             epochs=30,               \n",
        "             validation_split=0.2,    \n",
        "             )"
      ],
      "metadata": {
        "colab": {
          "base_uri": "https://localhost:8080/"
        },
        "id": "jenp9sHZF2W-",
        "outputId": "9239617a-7c56-4c90-d7a0-088c2ac5e25e"
      },
      "execution_count": null,
      "outputs": [
        {
          "output_type": "stream",
          "name": "stdout",
          "text": [
            "INFO:tensorflow:Oracle triggered exit\n"
          ]
        }
      ]
    },
    {
      "cell_type": "code",
      "source": [
        "models = tuner.get_best_models(num_models=3)"
      ],
      "metadata": {
        "id": "f_5y5snFMZA0"
      },
      "execution_count": null,
      "outputs": []
    },
    {
      "cell_type": "code",
      "source": [
        "for model in models:\n",
        "  model.summary()\n",
        "\n",
        "  pred=model.predict(X_test) \n",
        "  pred_classes=np.argmax(pred, axis=1)\n",
        "\n",
        "  test_acc = accuracy_score(y_test, pred_classes)\n",
        "  print(\"\\n Test_acc =\", test_acc)\n",
        "  \n",
        "  print() "
      ],
      "metadata": {
        "colab": {
          "base_uri": "https://localhost:8080/"
        },
        "id": "8weZyYj7Mnb6",
        "outputId": "44e71160-ebd7-4670-c7f3-4acb659b88a0"
      },
      "execution_count": null,
      "outputs": [
        {
          "output_type": "stream",
          "name": "stdout",
          "text": [
            "Model: \"sequential\"\n",
            "_________________________________________________________________\n",
            " Layer (type)                Output Shape              Param #   \n",
            "=================================================================\n",
            " conv2d (Conv2D)             (None, 32, 32, 28)        2128      \n",
            "                                                                 \n",
            " max_pooling2d (MaxPooling2D  (None, 16, 16, 28)       0         \n",
            " )                                                               \n",
            "                                                                 \n",
            " conv2d_1 (Conv2D)           (None, 16, 16, 28)        19628     \n",
            "                                                                 \n",
            " max_pooling2d_1 (MaxPooling  (None, 8, 8, 28)         0         \n",
            " 2D)                                                             \n",
            "                                                                 \n",
            " batch_normalization (BatchN  (None, 8, 8, 28)         112       \n",
            " ormalization)                                                   \n",
            "                                                                 \n",
            " flatten (Flatten)           (None, 1792)              0         \n",
            "                                                                 \n",
            " dense (Dense)               (None, 1024)              1836032   \n",
            "                                                                 \n",
            " dropout (Dropout)           (None, 1024)              0         \n",
            "                                                                 \n",
            " dense_1 (Dense)             (None, 64)                65600     \n",
            "                                                                 \n",
            " dropout_1 (Dropout)         (None, 64)                0         \n",
            "                                                                 \n",
            " dense_2 (Dense)             (None, 10)                650       \n",
            "                                                                 \n",
            "=================================================================\n",
            "Total params: 1,924,150\n",
            "Trainable params: 1,924,094\n",
            "Non-trainable params: 56\n",
            "_________________________________________________________________\n",
            "\n",
            " Test_acc = 0.6876\n",
            "\n",
            "Model: \"sequential\"\n",
            "_________________________________________________________________\n",
            " Layer (type)                Output Shape              Param #   \n",
            "=================================================================\n",
            " conv2d (Conv2D)             (None, 32, 32, 60)        4560      \n",
            "                                                                 \n",
            " max_pooling2d (MaxPooling2D  (None, 16, 16, 60)       0         \n",
            " )                                                               \n",
            "                                                                 \n",
            " conv2d_1 (Conv2D)           (None, 16, 16, 56)        84056     \n",
            "                                                                 \n",
            " max_pooling2d_1 (MaxPooling  (None, 8, 8, 56)         0         \n",
            " 2D)                                                             \n",
            "                                                                 \n",
            " batch_normalization (BatchN  (None, 8, 8, 56)         224       \n",
            " ormalization)                                                   \n",
            "                                                                 \n",
            " flatten (Flatten)           (None, 3584)              0         \n",
            "                                                                 \n",
            " dense (Dense)               (None, 832)               2982720   \n",
            "                                                                 \n",
            " dropout (Dropout)           (None, 832)               0         \n",
            "                                                                 \n",
            " dense_1 (Dense)             (None, 1024)              852992    \n",
            "                                                                 \n",
            " dropout_1 (Dropout)         (None, 1024)              0         \n",
            "                                                                 \n",
            " dense_2 (Dense)             (None, 10)                10250     \n",
            "                                                                 \n",
            "=================================================================\n",
            "Total params: 3,934,802\n",
            "Trainable params: 3,934,690\n",
            "Non-trainable params: 112\n",
            "_________________________________________________________________\n",
            "\n",
            " Test_acc = 0.6709\n",
            "\n",
            "Model: \"sequential\"\n",
            "_________________________________________________________________\n",
            " Layer (type)                Output Shape              Param #   \n",
            "=================================================================\n",
            " conv2d (Conv2D)             (None, 32, 32, 32)        2432      \n",
            "                                                                 \n",
            " max_pooling2d (MaxPooling2D  (None, 16, 16, 32)       0         \n",
            " )                                                               \n",
            "                                                                 \n",
            " conv2d_1 (Conv2D)           (None, 16, 16, 60)        48060     \n",
            "                                                                 \n",
            " max_pooling2d_1 (MaxPooling  (None, 8, 8, 60)         0         \n",
            " 2D)                                                             \n",
            "                                                                 \n",
            " batch_normalization (BatchN  (None, 8, 8, 60)         240       \n",
            " ormalization)                                                   \n",
            "                                                                 \n",
            " flatten (Flatten)           (None, 3840)              0         \n",
            "                                                                 \n",
            " dense (Dense)               (None, 576)               2212416   \n",
            "                                                                 \n",
            " dropout (Dropout)           (None, 576)               0         \n",
            "                                                                 \n",
            " dense_1 (Dense)             (None, 832)               480064    \n",
            "                                                                 \n",
            " dropout_1 (Dropout)         (None, 832)               0         \n",
            "                                                                 \n",
            " dense_2 (Dense)             (None, 10)                8330      \n",
            "                                                                 \n",
            "=================================================================\n",
            "Total params: 2,751,542\n",
            "Trainable params: 2,751,422\n",
            "Non-trainable params: 120\n",
            "_________________________________________________________________\n",
            "\n",
            " Test_acc = 0.6573\n",
            "\n"
          ]
        }
      ]
    },
    {
      "cell_type": "markdown",
      "metadata": {
        "id": "8Mm6fAOTxje1"
      },
      "source": [
        "Момент истины: проверьте, какого качества достигла ваша сеть."
      ]
    },
    {
      "cell_type": "code",
      "metadata": {
        "id": "BgUcJYLzxje2"
      },
      "source": [
        "from sklearn.metrics import accuracy_score\n",
        "test_acc = accuracy_score(y_test, model.predict_classes(X_test))\n",
        "print(\"\\n Test_acc =\", test_acc)\n",
        "if test_acc > 0.8:\n",
        "    print(\"Это победа!\")"
      ],
      "execution_count": null,
      "outputs": []
    },
    {
      "cell_type": "markdown",
      "metadata": {
        "id": "TjZo-jifxje2"
      },
      "source": [
        "А теперь, опишите свои <s>ощущения</s> результаты от проведенных экспериментов. "
      ]
    },
    {
      "cell_type": "code",
      "metadata": {
        "collapsed": true,
        "id": "t_pIaUdUxje2"
      },
      "source": [
        ""
      ],
      "execution_count": null,
      "outputs": []
    }
  ]
}