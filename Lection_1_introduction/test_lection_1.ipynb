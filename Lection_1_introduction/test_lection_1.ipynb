{
 "cells": [
  {
   "cell_type": "code",
   "execution_count": 1,
   "id": "selective-stranger",
   "metadata": {},
   "outputs": [],
   "source": [
    "import pandas as pd\n",
    "import numpy as np\n",
    "import matplotlib.pyplot as plt"
   ]
  },
  {
   "cell_type": "code",
   "execution_count": 2,
   "id": "roman-torture",
   "metadata": {},
   "outputs": [],
   "source": [
    "import tensorflow as ts\n",
    "from tensorflow import keras"
   ]
  },
  {
   "cell_type": "code",
   "execution_count": 3,
   "id": "curious-volume",
   "metadata": {},
   "outputs": [],
   "source": [
    "from sklearn.model_selection import train_test_split"
   ]
  },
  {
   "cell_type": "code",
   "execution_count": 4,
   "id": "supported-saturn",
   "metadata": {},
   "outputs": [],
   "source": [
    "df = pd.read_csv('creditcard.csv')"
   ]
  },
  {
   "cell_type": "code",
   "execution_count": 5,
   "id": "charming-dependence",
   "metadata": {},
   "outputs": [],
   "source": [
    "X = df.drop(columns=['Class'], axis=1)\n",
    "Y = df['Class'] "
   ]
  },
  {
   "cell_type": "code",
   "execution_count": 6,
   "id": "spectacular-magazine",
   "metadata": {},
   "outputs": [],
   "source": [
    "x_train, x_test, y_train, y_test = train_test_split(X, Y, test_size=0.2, random_state=42)"
   ]
  },
  {
   "cell_type": "code",
   "execution_count": 7,
   "id": "joint-arrival",
   "metadata": {},
   "outputs": [
    {
     "name": "stdout",
     "output_type": "stream",
     "text": [
      "3.51722561243691e-06 0.0020325203252032522\n"
     ]
    }
   ],
   "source": [
    "weight_0 = 1.0/len(df[df['Class']==0])\n",
    "weight_1 = 1.0/len(df[df['Class']==1])\n",
    "print(weight_0, weight_1)"
   ]
  },
  {
   "cell_type": "code",
   "execution_count": 8,
   "id": "suburban-movie",
   "metadata": {},
   "outputs": [],
   "source": [
    "from sklearn.preprocessing import normalize"
   ]
  },
  {
   "cell_type": "code",
   "execution_count": 61,
   "id": "weighted-basin",
   "metadata": {},
   "outputs": [],
   "source": [
    "mean = np.mean(x_train, axis=0)\n",
    "x_train -= mean\n",
    "x_test -= mean\n",
    "std = np.std(x_train, axis=0)\n",
    "x_train_norma /= std\n",
    "x_test_norma /= std"
   ]
  },
  {
   "cell_type": "markdown",
   "id": "productive-thesaurus",
   "metadata": {},
   "source": [
    "### Строим нейронку"
   ]
  },
  {
   "cell_type": "markdown",
   "id": "generous-treasurer",
   "metadata": {},
   "source": [
    "#### Создаем модель"
   ]
  },
  {
   "cell_type": "code",
   "execution_count": 62,
   "id": "olympic-dialogue",
   "metadata": {
    "scrolled": false
   },
   "outputs": [
    {
     "name": "stdout",
     "output_type": "stream",
     "text": [
      "Model: \"sequential_2\"\n",
      "_________________________________________________________________\n",
      " Layer (type)                Output Shape              Param #   \n",
      "=================================================================\n",
      " dense_8 (Dense)             (None, 256)               7936      \n",
      "                                                                 \n",
      " dense_9 (Dense)             (None, 256)               65792     \n",
      "                                                                 \n",
      " dropout_4 (Dropout)         (None, 256)               0         \n",
      "                                                                 \n",
      " dense_10 (Dense)            (None, 256)               65792     \n",
      "                                                                 \n",
      " dropout_5 (Dropout)         (None, 256)               0         \n",
      "                                                                 \n",
      " dense_11 (Dense)            (None, 1)                 257       \n",
      "                                                                 \n",
      "=================================================================\n",
      "Total params: 139,777\n",
      "Trainable params: 139,777\n",
      "Non-trainable params: 0\n",
      "_________________________________________________________________\n"
     ]
    }
   ],
   "source": [
    "hid_size = 256\n",
    "input_shape = x_train_norma.shape[-1]\n",
    "\n",
    "model = keras.Sequential(\n",
    "    [\n",
    "        keras.layers.Dense(hid_size, activation='relu', input_shape=(input_shape,)),\n",
    "        keras.layers.Dense(hid_size, activation=\"relu\"), # y^2\n",
    "        keras.layers.Dropout(0.3),\n",
    "        keras.layers.Dense(hid_size, activation=\"relu\"), # y^3\n",
    "        keras.layers.Dropout(0.3),\n",
    "        keras.layers.Dense(1, activation=\"sigmoid\"), # y^4\n",
    "    ]\n",
    ")\n",
    "model.summary()"
   ]
  },
  {
   "cell_type": "markdown",
   "id": "micro-covering",
   "metadata": {},
   "source": [
    "#### Метрики"
   ]
  },
  {
   "cell_type": "code",
   "execution_count": 63,
   "id": "selective-nowhere",
   "metadata": {},
   "outputs": [],
   "source": [
    "metrics= [\n",
    "    keras.metrics.FalseNegatives(name='fn'),\n",
    "    keras.metrics.FalsePositives(name='fp'),\n",
    "    keras.metrics.TrueNegatives(name='tn'),\n",
    "    keras.metrics.TruePositives(name='tp'),\n",
    "    keras.metrics.Precision(name='precision'),\n",
    "    keras.metrics.Recall(name='recall'),\n",
    "]"
   ]
  },
  {
   "cell_type": "markdown",
   "id": "expired-coral",
   "metadata": {},
   "source": [
    "#### Компиляция модели (перевод из высокоуровневой оболочки в бинарный вид)"
   ]
  },
  {
   "cell_type": "code",
   "execution_count": 64,
   "id": "norman-recording",
   "metadata": {},
   "outputs": [],
   "source": [
    "model.compile(\n",
    "    optimizer = keras.optimizers.Adam(1e-2), loss = 'binary_crossentropy', metrics =metrics\n",
    ")"
   ]
  },
  {
   "cell_type": "markdown",
   "id": "fancy-winter",
   "metadata": {},
   "source": [
    "#### CallBack (сохраняем информацию по эпохам)"
   ]
  },
  {
   "cell_type": "code",
   "execution_count": 65,
   "id": "german-juvenile",
   "metadata": {},
   "outputs": [],
   "source": [
    "callback = [keras.callbacks.ModelCheckpoint(\"fraud_model_at_epoch_{epoch}.h5\")]"
   ]
  },
  {
   "cell_type": "markdown",
   "id": "fifty-german",
   "metadata": {},
   "source": [
    "#### Обучение модели"
   ]
  },
  {
   "cell_type": "code",
   "execution_count": 66,
   "id": "rotary-istanbul",
   "metadata": {
    "scrolled": true
   },
   "outputs": [
    {
     "name": "stdout",
     "output_type": "stream",
     "text": [
      "Epoch 1/30\n",
      "112/112 - 41s - loss: 4.8737e-06 - fn: 287.0000 - fp: 72073.0000 - tn: 155378.0000 - tp: 107.0000 - precision: 0.0015 - recall: 0.2716 - val_loss: 0.7067 - val_fn: 0.0000e+00 - val_fp: 56864.0000 - val_tn: 0.0000e+00 - val_tp: 98.0000 - val_precision: 0.0017 - val_recall: 1.0000 - 41s/epoch - 368ms/step\n",
      "Epoch 2/30\n",
      "112/112 - 39s - loss: 4.8713e-06 - fn: 74.0000 - fp: 182520.0000 - tn: 44931.0000 - tp: 320.0000 - precision: 0.0018 - recall: 0.8122 - val_loss: 0.6604 - val_fn: 98.0000 - val_fp: 0.0000e+00 - val_tn: 56864.0000 - val_tp: 0.0000e+00 - val_precision: 0.0000e+00 - val_recall: 0.0000e+00 - 39s/epoch - 347ms/step\n",
      "Epoch 3/30\n",
      "112/112 - 40s - loss: 4.8791e-06 - fn: 318.0000 - fp: 47657.0000 - tn: 179794.0000 - tp: 76.0000 - precision: 0.0016 - recall: 0.1929 - val_loss: 0.6931 - val_fn: 98.0000 - val_fp: 115.0000 - val_tn: 56749.0000 - val_tp: 0.0000e+00 - val_precision: 0.0000e+00 - val_recall: 0.0000e+00 - 40s/epoch - 358ms/step\n",
      "Epoch 4/30\n",
      "112/112 - 40s - loss: 4.8721e-06 - fn: 294.0000 - fp: 52126.0000 - tn: 175325.0000 - tp: 100.0000 - precision: 0.0019 - recall: 0.2538 - val_loss: 0.7716 - val_fn: 0.0000e+00 - val_fp: 56864.0000 - val_tn: 0.0000e+00 - val_tp: 98.0000 - val_precision: 0.0017 - val_recall: 1.0000 - 40s/epoch - 360ms/step\n",
      "Epoch 5/30\n",
      "112/112 - 44s - loss: 4.8817e-06 - fn: 134.0000 - fp: 156081.0000 - tn: 71370.0000 - tp: 260.0000 - precision: 0.0017 - recall: 0.6599 - val_loss: 0.7151 - val_fn: 0.0000e+00 - val_fp: 56864.0000 - val_tn: 0.0000e+00 - val_tp: 98.0000 - val_precision: 0.0017 - val_recall: 1.0000 - 44s/epoch - 396ms/step\n",
      "Epoch 6/30\n",
      "112/112 - 49s - loss: 4.8720e-06 - fn: 52.0000 - fp: 194827.0000 - tn: 32624.0000 - tp: 342.0000 - precision: 0.0018 - recall: 0.8680 - val_loss: 0.6703 - val_fn: 98.0000 - val_fp: 0.0000e+00 - val_tn: 56864.0000 - val_tp: 0.0000e+00 - val_precision: 0.0000e+00 - val_recall: 0.0000e+00 - 49s/epoch - 441ms/step\n",
      "Epoch 7/30\n",
      "112/112 - 51s - loss: 4.8754e-06 - fn: 256.0000 - fp: 85570.0000 - tn: 141881.0000 - tp: 138.0000 - precision: 0.0016 - recall: 0.3503 - val_loss: 0.6830 - val_fn: 98.0000 - val_fp: 0.0000e+00 - val_tn: 56864.0000 - val_tp: 0.0000e+00 - val_precision: 0.0000e+00 - val_recall: 0.0000e+00 - 51s/epoch - 459ms/step\n",
      "Epoch 8/30\n",
      "112/112 - 45s - loss: 4.8734e-06 - fn: 223.0000 - fp: 101866.0000 - tn: 125585.0000 - tp: 171.0000 - precision: 0.0017 - recall: 0.4340 - val_loss: 0.6851 - val_fn: 98.0000 - val_fp: 0.0000e+00 - val_tn: 56864.0000 - val_tp: 0.0000e+00 - val_precision: 0.0000e+00 - val_recall: 0.0000e+00 - 45s/epoch - 400ms/step\n",
      "Epoch 9/30\n",
      "112/112 - 46s - loss: 4.8682e-06 - fn: 332.0000 - fp: 24472.0000 - tn: 202979.0000 - tp: 62.0000 - precision: 0.0025 - recall: 0.1574 - val_loss: 0.7013 - val_fn: 0.0000e+00 - val_fp: 56864.0000 - val_tn: 0.0000e+00 - val_tp: 98.0000 - val_precision: 0.0017 - val_recall: 1.0000 - 46s/epoch - 411ms/step\n",
      "Epoch 10/30\n",
      "112/112 - 48s - loss: 4.8749e-06 - fn: 115.0000 - fp: 164735.0000 - tn: 62716.0000 - tp: 279.0000 - precision: 0.0017 - recall: 0.7081 - val_loss: 0.7055 - val_fn: 0.0000e+00 - val_fp: 56864.0000 - val_tn: 0.0000e+00 - val_tp: 98.0000 - val_precision: 0.0017 - val_recall: 1.0000 - 48s/epoch - 424ms/step\n",
      "Epoch 11/30\n",
      "112/112 - 48s - loss: 4.8768e-06 - fn: 217.0000 - fp: 105143.0000 - tn: 122308.0000 - tp: 177.0000 - precision: 0.0017 - recall: 0.4492 - val_loss: 0.7167 - val_fn: 0.0000e+00 - val_fp: 56864.0000 - val_tn: 0.0000e+00 - val_tp: 98.0000 - val_precision: 0.0017 - val_recall: 1.0000 - 48s/epoch - 427ms/step\n",
      "Epoch 12/30\n",
      "112/112 - 45s - loss: 4.8770e-06 - fn: 224.0000 - fp: 103606.0000 - tn: 123845.0000 - tp: 170.0000 - precision: 0.0016 - recall: 0.4315 - val_loss: 0.7354 - val_fn: 0.0000e+00 - val_fp: 56864.0000 - val_tn: 0.0000e+00 - val_tp: 98.0000 - val_precision: 0.0017 - val_recall: 1.0000 - 45s/epoch - 398ms/step\n",
      "Epoch 13/30\n",
      "112/112 - 45s - loss: 4.8716e-06 - fn: 44.0000 - fp: 201949.0000 - tn: 25502.0000 - tp: 350.0000 - precision: 0.0017 - recall: 0.8883 - val_loss: 0.6781 - val_fn: 98.0000 - val_fp: 0.0000e+00 - val_tn: 56864.0000 - val_tp: 0.0000e+00 - val_precision: 0.0000e+00 - val_recall: 0.0000e+00 - 45s/epoch - 405ms/step\n",
      "Epoch 14/30\n",
      "112/112 - 45s - loss: 4.8726e-06 - fn: 138.0000 - fp: 152132.0000 - tn: 75319.0000 - tp: 256.0000 - precision: 0.0017 - recall: 0.6497 - val_loss: 0.6783 - val_fn: 98.0000 - val_fp: 0.0000e+00 - val_tn: 56864.0000 - val_tp: 0.0000e+00 - val_precision: 0.0000e+00 - val_recall: 0.0000e+00 - 45s/epoch - 404ms/step\n",
      "Epoch 15/30\n",
      "112/112 - 46s - loss: 4.8725e-06 - fn: 149.0000 - fp: 144027.0000 - tn: 83424.0000 - tp: 245.0000 - precision: 0.0017 - recall: 0.6218 - val_loss: 0.6802 - val_fn: 98.0000 - val_fp: 0.0000e+00 - val_tn: 56864.0000 - val_tp: 0.0000e+00 - val_precision: 0.0000e+00 - val_recall: 0.0000e+00 - 46s/epoch - 409ms/step\n",
      "Epoch 16/30\n",
      "112/112 - 46s - loss: 4.8731e-06 - fn: 346.0000 - fp: 32701.0000 - tn: 194750.0000 - tp: 48.0000 - precision: 0.0015 - recall: 0.1218 - val_loss: 0.6864 - val_fn: 98.0000 - val_fp: 0.0000e+00 - val_tn: 56864.0000 - val_tp: 0.0000e+00 - val_precision: 0.0000e+00 - val_recall: 0.0000e+00 - 46s/epoch - 409ms/step\n",
      "Epoch 17/30\n",
      "112/112 - 52s - loss: 4.8726e-06 - fn: 303.0000 - fp: 59577.0000 - tn: 167874.0000 - tp: 91.0000 - precision: 0.0015 - recall: 0.2310 - val_loss: 0.6983 - val_fn: 0.0000e+00 - val_fp: 56864.0000 - val_tn: 0.0000e+00 - val_tp: 98.0000 - val_precision: 0.0017 - val_recall: 1.0000 - 52s/epoch - 461ms/step\n",
      "Epoch 18/30\n",
      "112/112 - 54s - loss: 4.8721e-06 - fn: 327.0000 - fp: 39518.0000 - tn: 187933.0000 - tp: 67.0000 - precision: 0.0017 - recall: 0.1701 - val_loss: 0.6946 - val_fn: 0.0000e+00 - val_fp: 56864.0000 - val_tn: 0.0000e+00 - val_tp: 98.0000 - val_precision: 0.0017 - val_recall: 1.0000 - 54s/epoch - 484ms/step\n",
      "Epoch 19/30\n",
      "112/112 - 77s - loss: 4.8749e-06 - fn: 187.0000 - fp: 139217.0000 - tn: 88234.0000 - tp: 207.0000 - precision: 0.0015 - recall: 0.5254 - val_loss: 0.7126 - val_fn: 0.0000e+00 - val_fp: 56864.0000 - val_tn: 0.0000e+00 - val_tp: 98.0000 - val_precision: 0.0017 - val_recall: 1.0000 - 77s/epoch - 686ms/step\n",
      "Epoch 20/30\n",
      "112/112 - 71s - loss: 4.8737e-06 - fn: 62.0000 - fp: 197471.0000 - tn: 29980.0000 - tp: 332.0000 - precision: 0.0017 - recall: 0.8426 - val_loss: 0.7002 - val_fn: 0.0000e+00 - val_fp: 56864.0000 - val_tn: 0.0000e+00 - val_tp: 98.0000 - val_precision: 0.0017 - val_recall: 1.0000 - 71s/epoch - 632ms/step\n",
      "Epoch 21/30\n",
      "112/112 - 71s - loss: 4.8728e-06 - fn: 279.0000 - fp: 61562.0000 - tn: 165889.0000 - tp: 115.0000 - precision: 0.0019 - recall: 0.2919 - val_loss: 0.7177 - val_fn: 0.0000e+00 - val_fp: 56864.0000 - val_tn: 0.0000e+00 - val_tp: 98.0000 - val_precision: 0.0017 - val_recall: 1.0000 - 71s/epoch - 632ms/step\n",
      "Epoch 22/30\n",
      "112/112 - 72s - loss: 4.8744e-06 - fn: 20.0000 - fp: 216714.0000 - tn: 10737.0000 - tp: 374.0000 - precision: 0.0017 - recall: 0.9492 - val_loss: 0.6822 - val_fn: 98.0000 - val_fp: 0.0000e+00 - val_tn: 56864.0000 - val_tp: 0.0000e+00 - val_precision: 0.0000e+00 - val_recall: 0.0000e+00 - 72s/epoch - 644ms/step\n",
      "Epoch 23/30\n",
      "112/112 - 71s - loss: 4.8749e-06 - fn: 256.0000 - fp: 89974.0000 - tn: 137477.0000 - tp: 138.0000 - precision: 0.0015 - recall: 0.3503 - val_loss: 0.6755 - val_fn: 98.0000 - val_fp: 0.0000e+00 - val_tn: 56864.0000 - val_tp: 0.0000e+00 - val_precision: 0.0000e+00 - val_recall: 0.0000e+00 - 71s/epoch - 634ms/step\n",
      "Epoch 24/30\n",
      "112/112 - 73s - loss: 4.8725e-06 - fn: 274.0000 - fp: 70029.0000 - tn: 157422.0000 - tp: 120.0000 - precision: 0.0017 - recall: 0.3046 - val_loss: 0.7044 - val_fn: 0.0000e+00 - val_fp: 56864.0000 - val_tn: 0.0000e+00 - val_tp: 98.0000 - val_precision: 0.0017 - val_recall: 1.0000 - 73s/epoch - 651ms/step\n",
      "Epoch 25/30\n",
      "112/112 - 74s - loss: 4.8734e-06 - fn: 93.0000 - fp: 181342.0000 - tn: 46109.0000 - tp: 301.0000 - precision: 0.0017 - recall: 0.7640 - val_loss: 0.6918 - val_fn: 98.0000 - val_fp: 1.0000 - val_tn: 56863.0000 - val_tp: 0.0000e+00 - val_precision: 0.0000e+00 - val_recall: 0.0000e+00 - 74s/epoch - 665ms/step\n",
      "Epoch 26/30\n",
      "112/112 - 76s - loss: 4.8725e-06 - fn: 337.0000 - fp: 37324.0000 - tn: 190127.0000 - tp: 57.0000 - precision: 0.0015 - recall: 0.1447 - val_loss: 0.6993 - val_fn: 0.0000e+00 - val_fp: 56864.0000 - val_tn: 0.0000e+00 - val_tp: 98.0000 - val_precision: 0.0017 - val_recall: 1.0000 - 76s/epoch - 678ms/step\n"
     ]
    },
    {
     "name": "stdout",
     "output_type": "stream",
     "text": [
      "Epoch 27/30\n",
      "112/112 - 54s - loss: 4.8722e-06 - fn: 63.0000 - fp: 194229.0000 - tn: 33222.0000 - tp: 331.0000 - precision: 0.0017 - recall: 0.8401 - val_loss: 0.6812 - val_fn: 98.0000 - val_fp: 0.0000e+00 - val_tn: 56864.0000 - val_tp: 0.0000e+00 - val_precision: 0.0000e+00 - val_recall: 0.0000e+00 - 54s/epoch - 481ms/step\n",
      "Epoch 28/30\n",
      "112/112 - 60s - loss: 4.8737e-06 - fn: 340.0000 - fp: 33231.0000 - tn: 194220.0000 - tp: 54.0000 - precision: 0.0016 - recall: 0.1371 - val_loss: 0.6982 - val_fn: 0.0000e+00 - val_fp: 56864.0000 - val_tn: 0.0000e+00 - val_tp: 98.0000 - val_precision: 0.0017 - val_recall: 1.0000 - 60s/epoch - 540ms/step\n",
      "Epoch 29/30\n",
      "112/112 - 65s - loss: 4.8739e-06 - fn: 50.0000 - fp: 198312.0000 - tn: 29139.0000 - tp: 344.0000 - precision: 0.0017 - recall: 0.8731 - val_loss: 0.6719 - val_fn: 98.0000 - val_fp: 0.0000e+00 - val_tn: 56864.0000 - val_tp: 0.0000e+00 - val_precision: 0.0000e+00 - val_recall: 0.0000e+00 - 65s/epoch - 584ms/step\n",
      "Epoch 30/30\n",
      "112/112 - 48s - loss: 4.8715e-06 - fn: 330.0000 - fp: 41410.0000 - tn: 186041.0000 - tp: 64.0000 - precision: 0.0015 - recall: 0.1624 - val_loss: 0.6948 - val_fn: 0.0000e+00 - val_fp: 56864.0000 - val_tn: 0.0000e+00 - val_tp: 98.0000 - val_precision: 0.0017 - val_recall: 1.0000 - 48s/epoch - 432ms/step\n"
     ]
    },
    {
     "data": {
      "text/plain": [
       "<keras.callbacks.History at 0x1126e84d220>"
      ]
     },
     "execution_count": 66,
     "metadata": {},
     "output_type": "execute_result"
    }
   ],
   "source": [
    "class_weight = {0: weight_0, 1: weight_1}\n",
    "\n",
    "model.fit(\n",
    "    x_train_norma,\n",
    "    y_train,\n",
    "    batch_size = 2048,\n",
    "    epochs = 30,\n",
    "    verbose = 2,\n",
    "    callbacks=callback,\n",
    "    validation_data = (x_test_norma, y_test),\n",
    "    class_weight = class_weight,\n",
    ")\n"
   ]
  },
  {
   "cell_type": "code",
   "execution_count": 67,
   "id": "married-confusion",
   "metadata": {},
   "outputs": [
    {
     "name": "stdout",
     "output_type": "stream",
     "text": [
      "1781/1781 [==============================] - 16s 8ms/step - loss: 1277.1666 - fn: 0.0000e+00 - fp: 56864.0000 - tn: 0.0000e+00 - tp: 98.0000 - precision: 0.0017 - recall: 1.0000\n"
     ]
    },
    {
     "data": {
      "text/plain": [
       "[1277.1666259765625, 0.0, 56864.0, 0.0, 98.0, 0.001720445230603218, 1.0]"
      ]
     },
     "execution_count": 67,
     "metadata": {},
     "output_type": "execute_result"
    }
   ],
   "source": [
    "model.evaluate(x_test, y_test)"
   ]
  },
  {
   "cell_type": "code",
   "execution_count": 58,
   "id": "optional-backup",
   "metadata": {},
   "outputs": [
    {
     "data": {
      "text/plain": [
       "array([[1.],\n",
       "       [1.]], dtype=float32)"
      ]
     },
     "execution_count": 58,
     "metadata": {},
     "output_type": "execute_result"
    }
   ],
   "source": [
    "res = model.predict(x_test[:2])\n",
    "res"
   ]
  },
  {
   "cell_type": "code",
   "execution_count": 59,
   "id": "jewish-entity",
   "metadata": {},
   "outputs": [
    {
     "data": {
      "text/plain": [
       "43428    1\n",
       "49906    0\n",
       "Name: Class, dtype: int64"
      ]
     },
     "execution_count": 59,
     "metadata": {},
     "output_type": "execute_result"
    }
   ],
   "source": [
    "y_test[:2]"
   ]
  },
  {
   "cell_type": "code",
   "execution_count": 50,
   "id": "scientific-student",
   "metadata": {},
   "outputs": [
    {
     "data": {
      "text/html": [
       "<div>\n",
       "<style scoped>\n",
       "    .dataframe tbody tr th:only-of-type {\n",
       "        vertical-align: middle;\n",
       "    }\n",
       "\n",
       "    .dataframe tbody tr th {\n",
       "        vertical-align: top;\n",
       "    }\n",
       "\n",
       "    .dataframe thead th {\n",
       "        text-align: right;\n",
       "    }\n",
       "</style>\n",
       "<table border=\"1\" class=\"dataframe\">\n",
       "  <thead>\n",
       "    <tr style=\"text-align: right;\">\n",
       "      <th></th>\n",
       "      <th>pred</th>\n",
       "    </tr>\n",
       "  </thead>\n",
       "  <tbody>\n",
       "    <tr>\n",
       "      <th>0</th>\n",
       "      <td>1.0</td>\n",
       "    </tr>\n",
       "    <tr>\n",
       "      <th>1</th>\n",
       "      <td>1.0</td>\n",
       "    </tr>\n",
       "    <tr>\n",
       "      <th>2</th>\n",
       "      <td>1.0</td>\n",
       "    </tr>\n",
       "    <tr>\n",
       "      <th>3</th>\n",
       "      <td>1.0</td>\n",
       "    </tr>\n",
       "    <tr>\n",
       "      <th>4</th>\n",
       "      <td>1.0</td>\n",
       "    </tr>\n",
       "    <tr>\n",
       "      <th>...</th>\n",
       "      <td>...</td>\n",
       "    </tr>\n",
       "    <tr>\n",
       "      <th>56957</th>\n",
       "      <td>1.0</td>\n",
       "    </tr>\n",
       "    <tr>\n",
       "      <th>56958</th>\n",
       "      <td>1.0</td>\n",
       "    </tr>\n",
       "    <tr>\n",
       "      <th>56959</th>\n",
       "      <td>1.0</td>\n",
       "    </tr>\n",
       "    <tr>\n",
       "      <th>56960</th>\n",
       "      <td>1.0</td>\n",
       "    </tr>\n",
       "    <tr>\n",
       "      <th>56961</th>\n",
       "      <td>1.0</td>\n",
       "    </tr>\n",
       "  </tbody>\n",
       "</table>\n",
       "<p>56962 rows × 1 columns</p>\n",
       "</div>"
      ],
      "text/plain": [
       "       pred\n",
       "0       1.0\n",
       "1       1.0\n",
       "2       1.0\n",
       "3       1.0\n",
       "4       1.0\n",
       "...     ...\n",
       "56957   1.0\n",
       "56958   1.0\n",
       "56959   1.0\n",
       "56960   1.0\n",
       "56961   1.0\n",
       "\n",
       "[56962 rows x 1 columns]"
      ]
     },
     "execution_count": 50,
     "metadata": {},
     "output_type": "execute_result"
    }
   ],
   "source": [
    "df_res = pd.DataFrame(res, columns=['pred'])\n",
    "df_res"
   ]
  },
  {
   "cell_type": "code",
   "execution_count": 49,
   "id": "institutional-edgar",
   "metadata": {},
   "outputs": [
    {
     "data": {
      "text/plain": [
       "0    56864\n",
       "1       98\n",
       "Name: Class, dtype: int64"
      ]
     },
     "execution_count": 49,
     "metadata": {},
     "output_type": "execute_result"
    }
   ],
   "source": [
    "y_test.value_counts()"
   ]
  }
 ],
 "metadata": {
  "kernelspec": {
   "display_name": "Python 3",
   "language": "python",
   "name": "python3"
  },
  "language_info": {
   "codemirror_mode": {
    "name": "ipython",
    "version": 3
   },
   "file_extension": ".py",
   "mimetype": "text/x-python",
   "name": "python",
   "nbconvert_exporter": "python",
   "pygments_lexer": "ipython3",
   "version": "3.9.0"
  }
 },
 "nbformat": 4,
 "nbformat_minor": 5
}
