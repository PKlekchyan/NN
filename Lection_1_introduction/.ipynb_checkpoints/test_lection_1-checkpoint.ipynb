{
 "cells": [
  {
   "cell_type": "code",
   "execution_count": 1,
   "id": "irish-typing",
   "metadata": {},
   "outputs": [],
   "source": [
    "import pandas as pd\n",
    "import numpy as np\n",
    "import matplotlib.pyplot as plt"
   ]
  },
  {
   "cell_type": "code",
   "execution_count": 2,
   "id": "dirty-vegetarian",
   "metadata": {},
   "outputs": [],
   "source": [
    "import tensorflow as ts\n",
    "from tensorflow import keras"
   ]
  },
  {
   "cell_type": "code",
   "execution_count": 13,
   "id": "split-cycle",
   "metadata": {},
   "outputs": [],
   "source": [
    "from sklearn.model_selection import train_test_split"
   ]
  },
  {
   "cell_type": "code",
   "execution_count": 3,
   "id": "independent-legend",
   "metadata": {},
   "outputs": [],
   "source": [
    "df = pd.read_csv('creditcard.csv')"
   ]
  },
  {
   "cell_type": "code",
   "execution_count": 7,
   "id": "serial-arcade",
   "metadata": {},
   "outputs": [],
   "source": [
    "X = df.drop(columns=['Class'], axis=1)\n",
    "Y = df['Class'] "
   ]
  },
  {
   "cell_type": "code",
   "execution_count": 15,
   "id": "fourth-parking",
   "metadata": {},
   "outputs": [],
   "source": [
    "x_train, x_test, y_train, y_test = train_test_split(X, Y, test_size=0.2, random_state=42)"
   ]
  },
  {
   "cell_type": "code",
   "execution_count": 27,
   "id": "regulated-pregnancy",
   "metadata": {},
   "outputs": [
    {
     "name": "stdout",
     "output_type": "stream",
     "text": [
      "3.51722561243691e-06 0.0020325203252032522\n"
     ]
    }
   ],
   "source": [
    "weight_0 = 1.0/len(df[df['Class']==0])\n",
    "weight_1 = 1.0/len(df[df['Class']==1])\n",
    "print(weight_0, weight_1)"
   ]
  },
  {
   "cell_type": "code",
   "execution_count": 28,
   "id": "unavailable-simpson",
   "metadata": {},
   "outputs": [],
   "source": [
    "from sklearn.preprocessing import normalize"
   ]
  },
  {
   "cell_type": "code",
   "execution_count": 30,
   "id": "israeli-composition",
   "metadata": {},
   "outputs": [],
   "source": [
    "x_train_norma = normalize(x_train)"
   ]
  },
  {
   "cell_type": "markdown",
   "id": "governmental-enforcement",
   "metadata": {},
   "source": [
    "### Строим нейронку"
   ]
  },
  {
   "cell_type": "markdown",
   "id": "recorded-logic",
   "metadata": {},
   "source": [
    "#### Создаем модель"
   ]
  },
  {
   "cell_type": "code",
   "execution_count": 38,
   "id": "tracked-waters",
   "metadata": {
    "scrolled": false
   },
   "outputs": [
    {
     "name": "stdout",
     "output_type": "stream",
     "text": [
      "Model: \"sequential\"\n",
      "_________________________________________________________________\n",
      " Layer (type)                Output Shape              Param #   \n",
      "=================================================================\n",
      " dense (Dense)               (None, 248)               7688      \n",
      "                                                                 \n",
      " dense_1 (Dense)             (None, 248)               61752     \n",
      "                                                                 \n",
      " dropout (Dropout)           (None, 248)               0         \n",
      "                                                                 \n",
      " dense_2 (Dense)             (None, 248)               61752     \n",
      "                                                                 \n",
      " dropout_1 (Dropout)         (None, 248)               0         \n",
      "                                                                 \n",
      " dense_3 (Dense)             (None, 1)                 249       \n",
      "                                                                 \n",
      "=================================================================\n",
      "Total params: 131,441\n",
      "Trainable params: 131,441\n",
      "Non-trainable params: 0\n",
      "_________________________________________________________________\n"
     ]
    }
   ],
   "source": [
    "hid_size = 248\n",
    "input_shape = x_train_norma.shape[-1]\n",
    "\n",
    "model = keras.Sequential(\n",
    "    [\n",
    "        keras.layers.Dense(hid_size, activation='relu', input_shape=(input_shape,)),\n",
    "        keras.layers.Dense(hid_size, activation=\"relu\"), # y^2\n",
    "        keras.layers.Dropout(0.3),\n",
    "        keras.layers.Dense(hid_size, activation=\"relu\"), # y^3\n",
    "        keras.layers.Dropout(0.3),\n",
    "        keras.layers.Dense(1, activation=\"sigmoid\"), # y^4\n",
    "    ]\n",
    ")\n",
    "model.summary()"
   ]
  },
  {
   "cell_type": "markdown",
   "id": "legendary-suspension",
   "metadata": {},
   "source": [
    "#### Метрики"
   ]
  },
  {
   "cell_type": "code",
   "execution_count": 42,
   "id": "cardiac-raising",
   "metadata": {},
   "outputs": [],
   "source": [
    "metrics= [\n",
    "    keras.metrics.FalseNegatives(name='fn'),\n",
    "    keras.metrics.FalsePositives(name='fp'),\n",
    "    keras.metrics.TrueNegatives(name='tn'),\n",
    "    keras.metrics.TruePositives(name='tp'),\n",
    "    keras.metrics.Precision(name='precision'),\n",
    "    keras.metrics.Recall(name='recall'),\n",
    "]"
   ]
  },
  {
   "cell_type": "markdown",
   "id": "official-chapter",
   "metadata": {},
   "source": [
    "#### Компиляция модели (перевод из высокоуровневой оболочки в бинарный вид)"
   ]
  },
  {
   "cell_type": "code",
   "execution_count": 43,
   "id": "coated-cliff",
   "metadata": {},
   "outputs": [
    {
     "ename": "AttributeError",
     "evalue": "module 'keras.api._v2.keras' has no attribute 'optimizer'",
     "output_type": "error",
     "traceback": [
      "\u001b[1;31m---------------------------------------------------------------------------\u001b[0m",
      "\u001b[1;31mAttributeError\u001b[0m                            Traceback (most recent call last)",
      "\u001b[1;32m<ipython-input-43-907a5ca98fc5>\u001b[0m in \u001b[0;36m<module>\u001b[1;34m\u001b[0m\n\u001b[0;32m      1\u001b[0m model.compile(\n\u001b[1;32m----> 2\u001b[1;33m     \u001b[0moptimizer\u001b[0m \u001b[1;33m=\u001b[0m \u001b[0mkeras\u001b[0m\u001b[1;33m.\u001b[0m\u001b[0moptimizer\u001b[0m\u001b[1;33m.\u001b[0m\u001b[0mAdam\u001b[0m\u001b[1;33m(\u001b[0m\u001b[1;36m1e-2\u001b[0m\u001b[1;33m)\u001b[0m\u001b[1;33m,\u001b[0m \u001b[0mloss\u001b[0m \u001b[1;33m=\u001b[0m \u001b[1;34m'binary_crossentropy'\u001b[0m\u001b[1;33m,\u001b[0m \u001b[0mmetrics\u001b[0m \u001b[1;33m=\u001b[0m\u001b[0mmetrics\u001b[0m\u001b[1;33m\u001b[0m\u001b[1;33m\u001b[0m\u001b[0m\n\u001b[0m\u001b[0;32m      3\u001b[0m )\n",
      "\u001b[1;31mAttributeError\u001b[0m: module 'keras.api._v2.keras' has no attribute 'optimizer'"
     ]
    }
   ],
   "source": [
    "model.compile(\n",
    "    optimizer = keras.optimizer.Adam(1e-2), loss = 'binary_crossentropy', metrics =metrics\n",
    ")"
   ]
  }
 ],
 "metadata": {
  "kernelspec": {
   "display_name": "Python 3",
   "language": "python",
   "name": "python3"
  },
  "language_info": {
   "codemirror_mode": {
    "name": "ipython",
    "version": 3
   },
   "file_extension": ".py",
   "mimetype": "text/x-python",
   "name": "python",
   "nbconvert_exporter": "python",
   "pygments_lexer": "ipython3",
   "version": "3.9.0"
  }
 },
 "nbformat": 4,
 "nbformat_minor": 5
}
